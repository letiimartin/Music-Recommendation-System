{
  "cells": [
    {
      "cell_type": "markdown",
      "metadata": {
        "id": "DyAjEw4OHmDb"
      },
      "source": [
        "# **Music Recommendation System**"
      ]
    },
    {
      "cell_type": "markdown",
      "metadata": {
        "id": "FMCaC7Q_tq1m"
      },
      "source": [
        "## **Problem Definition**"
      ]
    },
    {
      "cell_type": "markdown",
      "source": [
        "### **The Context:**\n",
        "\n",
        "The rapid advancement of technology has greatly streamlined our daily activities, yet it has also made our lives busier and more distracted. This shift has affected our interaction with art and entertainment, making it challenging to discover and engage with new content. In this digital age, the ability to quickly find content that resonates with our personal tastes is more valuable than ever.\n",
        "\n",
        "Internet-based platforms, particularly in the entertainment sector, thrive on the time users spend engaged with their content. A prime example is Spotify, a leading audio streaming service with a vast global presence. Spotify has mastered the art of music discovery through its advanced recommendation systems, which utilize a vast database of user preferences to suggest the 'next best song.' This approach not only enhances user experience by making music discovery seamless but also contributes to the platform's success by encouraging longer engagement times.\n",
        "\n",
        "In the face of an ever-growing online music library, the challenge for Spotify and similar platforms is to efficiently guide users to content that matches their tastes, thus ensuring sustained engagement and satisfaction. The development and refinement of recommendation algorithms are central to this effort, highlighting the critical role of data science in shaping the future of digital entertainment.\n",
        "\n"
      ],
      "metadata": {
        "id": "8_ptHVoNcLoV"
      }
    },
    {
      "cell_type": "markdown",
      "source": [
        "### **The objective:**\n",
        "\n",
        "The main aim is to leverage the extensive collection of music available to improve the user's experience by seamlessly directing them to new songs that match their individual tastes. This objective seeks not only to boost user engagement and satisfaction but also to encourage users to spend more time on the platform, thereby strengthening the bond between listeners and the music they enjoy.\n"
      ],
      "metadata": {
        "id": "FNecVNymcRWN"
      }
    },
    {
      "cell_type": "markdown",
      "source": [
        "### **The key questions:**\n",
        "\n",
        "- How does the number of song plays correlate with user engagement, and at what point does a song become a significant part of a user's playlist?\n",
        "- Can we identify specific trends in song preferences across different generations, and how do these preferences influence the discovery of new music?\n",
        "- When users prefer a cover version of a song, does this indicate a preference for the artist's style over the original song's composition, and how does this preference affect song recommendations?\n",
        "- What is the likelihood that enjoying one song from an album indicates a predisposition to like other songs from the same album, and how can we leverage this to enhance music discovery?\n",
        "- Given our objective to maximize user session length and satisfaction, how do we balance the importance of recall and precision in our recommendation system to optimize the user experience?\n",
        "\n"
      ],
      "metadata": {
        "id": "s_G9XbtocZH0"
      }
    },
    {
      "cell_type": "markdown",
      "source": [
        "### **The problem formulation**:\n",
        "\n",
        "As Data Science professionals working on our music streaming platform, we are tasked with leveraging advanced analytics to significantly enhance the user experience, encouraging them to spend more time engaged with our service. Our primary objective is to craft a state-of-the-art recommendation system. This system is designed to offer personalized and highly relevant music suggestions, drawing from a deep analysis of user listening habits, musical preferences, and interactions within the platform.\n",
        "\n",
        "To tackle this challenge from various perspectives, we will employ a diverse set of sophisticated recommendation models, including similarity-based collaborative filtering, matrix factorization techniques, clustering-based systems, and content-based recommendations. This multifaceted approach ensures that every user receives tailor-made recommendations that not only align with their existing musical tastes but also help them discover new songs and artists that they're likely to enjoy.\n",
        "\n",
        "Given the company's ambition to maximize the time users spend on the platform, prioritizing recall becomes essential. By focusing on recall, we ensure the recommendation system covers a broad spectrum of relevant musical options, thus enhancing the potential for user discovery and sustained engagement with the platform. Nonetheless, it's crucial to strike a careful balance with precision to maintain the relevance of these recommendations. Achieving this equilibrium is key to delivering an optimal user experience that fosters user retention while boosting satisfaction and loyalty to our platform."
      ],
      "metadata": {
        "id": "rjpobcgtcb3t"
      }
    },
    {
      "cell_type": "markdown",
      "source": [
        "# **Final Submission**\n"
      ],
      "metadata": {
        "id": "epMh1zoSU83A"
      }
    },
    {
      "cell_type": "markdown",
      "source": [
        "This notebook constitutes the final submission and primarily focuses on highlighting the key conclusions derived from the project. It is conceived as the definitive proposal aimed at business leaders and decision-makers, providing tangible and actionable solutions. The report is structured into three fundamental parts: an Executive Summary, summarizing the most significant findings from the analysis; a Problem and Solution Summary, detailing the identified problem and justifying the proposed solution design and its potential impact; and Recommendations for Implementation, offering key guidelines and expected benefits, as well as considerations on costs, risks, and challenges.\n",
        "\n",
        "Additionally, the document includes a section dedicated to exploring improvements in collaborative filtering models, both matrix factorization-based and content-based. Despite these investigations not resulting in significant improvements, they have been integrated into the notebook. This decision is made to value the effort invested and provide a comprehensive view of the work developed. This approach reflects our commitment to transparency and continuous learning, even when the results do not meet initial expectations."
      ],
      "metadata": {
        "id": "QF1mznkmVJ6I"
      }
    },
    {
      "cell_type": "markdown",
      "source": [
        "## **Exploration of Model Enhancements from the Milestone Submission**"
      ],
      "metadata": {
        "id": "0QAkh50SVrww"
      }
    },
    {
      "cell_type": "markdown",
      "source": [
        "\n",
        "This section is dedicated to a detailed exploration of two advanced approaches in recommendation systems: a hybrid model and a neural network-based model utilizing SVD. This part of the notebook starts from the collaborative filtering model based on matrix factorization and the content-based model presented in the previous milestone. These models remain unchanged, serving as a reference and foundation for the new architectures to be explored. The section provides a comprehensive framework to understand how these new models can build upon the previously established foundations and how they might offer potential improvements in the personalization and accuracy of song recommendations."
      ],
      "metadata": {
        "id": "QJOs9-IDXJXm"
      }
    },
    {
      "cell_type": "markdown",
      "metadata": {
        "id": "NRJtXkTrHxMQ"
      },
      "source": [
        "### Importing Libraries and the Dataset"
      ]
    },
    {
      "cell_type": "code",
      "execution_count": null,
      "metadata": {
        "colab": {
          "base_uri": "https://localhost:8080/"
        },
        "id": "6SRzOPXI2Efn",
        "outputId": "b6f8b481-ebe4-461d-d1cb-2ce3541422a7"
      },
      "outputs": [
        {
          "output_type": "stream",
          "name": "stdout",
          "text": [
            "Mounted at /content/drive\n"
          ]
        }
      ],
      "source": [
        "# Mounting the drive\n",
        "from google.colab import drive\n",
        "drive.mount('/content/drive', force_remount=True)"
      ]
    },
    {
      "cell_type": "code",
      "execution_count": null,
      "metadata": {
        "id": "R4YvKrpzId3K"
      },
      "outputs": [],
      "source": [
        "# Used to ignore the warning given as output of the code\n",
        "import warnings\n",
        "warnings.filterwarnings('ignore')\n",
        "\n",
        "# Basic libraries of python for numeric and dataframe computations\n",
        "import numpy as np\n",
        "import pandas as pd\n",
        "\n",
        "\n",
        "# Import Matplotlib the Basic library for data visualization\n",
        "import matplotlib.pyplot as plt\n",
        "\n",
        "# Import seaborn - Slightly advanced library for data visualization\n",
        "import seaborn as sns\n",
        "\n",
        "# Import the required library to compute the cosine similarity between two vectors\n",
        "from sklearn.metrics.pairwise import cosine_similarity\n",
        "\n",
        "# Import defaultdict from collections A dictionary output that does not raise a key error\n",
        "from collections import defaultdict\n",
        "\n",
        "# Impoort mean_squared_error : a performance metrics in sklearn\n",
        "from sklearn.metrics import mean_squared_error\n"
      ]
    },
    {
      "cell_type": "markdown",
      "metadata": {
        "id": "bUGKX140wf-S"
      },
      "source": [
        "### Load the dataset"
      ]
    },
    {
      "cell_type": "code",
      "execution_count": null,
      "metadata": {
        "id": "si6ulhIYImck"
      },
      "outputs": [],
      "source": [
        "# Importing the datasets\n",
        "count_df = pd.read_csv('/content/drive/MyDrive/Curso_MIT/Capstone Project/count_data.csv')\n",
        "song_df = pd.read_csv('/content/drive/MyDrive/Curso_MIT/Capstone Project/song_data.csv')"
      ]
    },
    {
      "cell_type": "code",
      "execution_count": null,
      "metadata": {
        "colab": {
          "base_uri": "https://localhost:8080/",
          "height": 423
        },
        "id": "oTeurvID2T9U",
        "outputId": "ae389093-5d08-4a95-a372-310742bcb2e2"
      },
      "outputs": [
        {
          "output_type": "execute_result",
          "data": {
            "text/plain": [
              "                                          user_id             song_id  \\\n",
              "0        b80344d063b5ccb3212f76538f3d9e43d87dca9e  SOAKIMP12A8C130995   \n",
              "1        b80344d063b5ccb3212f76538f3d9e43d87dca9e  SOBBMDR12A8C13253B   \n",
              "2        b80344d063b5ccb3212f76538f3d9e43d87dca9e  SOBXHDL12A81C204C0   \n",
              "3        b80344d063b5ccb3212f76538f3d9e43d87dca9e  SOBYHAJ12A6701BF1D   \n",
              "4        b80344d063b5ccb3212f76538f3d9e43d87dca9e  SODACBL12A8C13C273   \n",
              "...                                           ...                 ...   \n",
              "2054529  d8bfd4ec88f0f3773a9e022e3c1a0f1d3b7b6a92  SOJEYPO12AAA8C6B0E   \n",
              "2054530  d8bfd4ec88f0f3773a9e022e3c1a0f1d3b7b6a92  SOJJYDE12AF729FC16   \n",
              "2054531  d8bfd4ec88f0f3773a9e022e3c1a0f1d3b7b6a92  SOJKQSF12A6D4F5EE9   \n",
              "2054532  d8bfd4ec88f0f3773a9e022e3c1a0f1d3b7b6a92  SOJUXGA12AC961885C   \n",
              "2054533  d8bfd4ec88f0f3773a9e022e3c1a0f1d3b7b6a92  SOJYOLS12A8C13C06F   \n",
              "\n",
              "         play_count                           title  \\\n",
              "0                 1                        The Cove   \n",
              "1                 2                 Entre Dos Aguas   \n",
              "2                 1                        Stronger   \n",
              "3                 1                  Constellations   \n",
              "4                 1                    Learn To Fly   \n",
              "...             ...                             ...   \n",
              "2054529           2       Ignorance (Album Version)   \n",
              "2054530           4          Two Is Better Than One   \n",
              "2054531           3  What I've Done (Album Version)   \n",
              "2054532           1                              Up   \n",
              "2054533           1      Soil_ Soil (Album Version)   \n",
              "\n",
              "                               release  \\\n",
              "0                   Thicker Than Water   \n",
              "1                  Flamenco Para Niños   \n",
              "2                           Graduation   \n",
              "3                    In Between Dreams   \n",
              "4        There Is Nothing Left To Lose   \n",
              "...                                ...   \n",
              "2054529                      Ignorance   \n",
              "2054530                     Love Drunk   \n",
              "2054531                 What I've Done   \n",
              "2054532                      My Worlds   \n",
              "2054533                        The Con   \n",
              "\n",
              "                                    artist_name  year  \n",
              "0                                  Jack Johnson     0  \n",
              "1                                 Paco De Lucia  1976  \n",
              "2                                    Kanye West  2007  \n",
              "3                                  Jack Johnson  2005  \n",
              "4                                  Foo Fighters  1999  \n",
              "...                                         ...   ...  \n",
              "2054529                                Paramore     0  \n",
              "2054530  Boys Like Girls featuring Taylor Swift  2009  \n",
              "2054531                             Linkin Park  2007  \n",
              "2054532                           Justin Bieber  2010  \n",
              "2054533                          Tegan And Sara  2007  \n",
              "\n",
              "[2054534 rows x 7 columns]"
            ],
            "text/html": [
              "\n",
              "  <div id=\"df-425e9f2f-6f25-448a-86e7-019e7c88abb6\" class=\"colab-df-container\">\n",
              "    <div>\n",
              "<style scoped>\n",
              "    .dataframe tbody tr th:only-of-type {\n",
              "        vertical-align: middle;\n",
              "    }\n",
              "\n",
              "    .dataframe tbody tr th {\n",
              "        vertical-align: top;\n",
              "    }\n",
              "\n",
              "    .dataframe thead th {\n",
              "        text-align: right;\n",
              "    }\n",
              "</style>\n",
              "<table border=\"1\" class=\"dataframe\">\n",
              "  <thead>\n",
              "    <tr style=\"text-align: right;\">\n",
              "      <th></th>\n",
              "      <th>user_id</th>\n",
              "      <th>song_id</th>\n",
              "      <th>play_count</th>\n",
              "      <th>title</th>\n",
              "      <th>release</th>\n",
              "      <th>artist_name</th>\n",
              "      <th>year</th>\n",
              "    </tr>\n",
              "  </thead>\n",
              "  <tbody>\n",
              "    <tr>\n",
              "      <th>0</th>\n",
              "      <td>b80344d063b5ccb3212f76538f3d9e43d87dca9e</td>\n",
              "      <td>SOAKIMP12A8C130995</td>\n",
              "      <td>1</td>\n",
              "      <td>The Cove</td>\n",
              "      <td>Thicker Than Water</td>\n",
              "      <td>Jack Johnson</td>\n",
              "      <td>0</td>\n",
              "    </tr>\n",
              "    <tr>\n",
              "      <th>1</th>\n",
              "      <td>b80344d063b5ccb3212f76538f3d9e43d87dca9e</td>\n",
              "      <td>SOBBMDR12A8C13253B</td>\n",
              "      <td>2</td>\n",
              "      <td>Entre Dos Aguas</td>\n",
              "      <td>Flamenco Para Niños</td>\n",
              "      <td>Paco De Lucia</td>\n",
              "      <td>1976</td>\n",
              "    </tr>\n",
              "    <tr>\n",
              "      <th>2</th>\n",
              "      <td>b80344d063b5ccb3212f76538f3d9e43d87dca9e</td>\n",
              "      <td>SOBXHDL12A81C204C0</td>\n",
              "      <td>1</td>\n",
              "      <td>Stronger</td>\n",
              "      <td>Graduation</td>\n",
              "      <td>Kanye West</td>\n",
              "      <td>2007</td>\n",
              "    </tr>\n",
              "    <tr>\n",
              "      <th>3</th>\n",
              "      <td>b80344d063b5ccb3212f76538f3d9e43d87dca9e</td>\n",
              "      <td>SOBYHAJ12A6701BF1D</td>\n",
              "      <td>1</td>\n",
              "      <td>Constellations</td>\n",
              "      <td>In Between Dreams</td>\n",
              "      <td>Jack Johnson</td>\n",
              "      <td>2005</td>\n",
              "    </tr>\n",
              "    <tr>\n",
              "      <th>4</th>\n",
              "      <td>b80344d063b5ccb3212f76538f3d9e43d87dca9e</td>\n",
              "      <td>SODACBL12A8C13C273</td>\n",
              "      <td>1</td>\n",
              "      <td>Learn To Fly</td>\n",
              "      <td>There Is Nothing Left To Lose</td>\n",
              "      <td>Foo Fighters</td>\n",
              "      <td>1999</td>\n",
              "    </tr>\n",
              "    <tr>\n",
              "      <th>...</th>\n",
              "      <td>...</td>\n",
              "      <td>...</td>\n",
              "      <td>...</td>\n",
              "      <td>...</td>\n",
              "      <td>...</td>\n",
              "      <td>...</td>\n",
              "      <td>...</td>\n",
              "    </tr>\n",
              "    <tr>\n",
              "      <th>2054529</th>\n",
              "      <td>d8bfd4ec88f0f3773a9e022e3c1a0f1d3b7b6a92</td>\n",
              "      <td>SOJEYPO12AAA8C6B0E</td>\n",
              "      <td>2</td>\n",
              "      <td>Ignorance (Album Version)</td>\n",
              "      <td>Ignorance</td>\n",
              "      <td>Paramore</td>\n",
              "      <td>0</td>\n",
              "    </tr>\n",
              "    <tr>\n",
              "      <th>2054530</th>\n",
              "      <td>d8bfd4ec88f0f3773a9e022e3c1a0f1d3b7b6a92</td>\n",
              "      <td>SOJJYDE12AF729FC16</td>\n",
              "      <td>4</td>\n",
              "      <td>Two Is Better Than One</td>\n",
              "      <td>Love Drunk</td>\n",
              "      <td>Boys Like Girls featuring Taylor Swift</td>\n",
              "      <td>2009</td>\n",
              "    </tr>\n",
              "    <tr>\n",
              "      <th>2054531</th>\n",
              "      <td>d8bfd4ec88f0f3773a9e022e3c1a0f1d3b7b6a92</td>\n",
              "      <td>SOJKQSF12A6D4F5EE9</td>\n",
              "      <td>3</td>\n",
              "      <td>What I've Done (Album Version)</td>\n",
              "      <td>What I've Done</td>\n",
              "      <td>Linkin Park</td>\n",
              "      <td>2007</td>\n",
              "    </tr>\n",
              "    <tr>\n",
              "      <th>2054532</th>\n",
              "      <td>d8bfd4ec88f0f3773a9e022e3c1a0f1d3b7b6a92</td>\n",
              "      <td>SOJUXGA12AC961885C</td>\n",
              "      <td>1</td>\n",
              "      <td>Up</td>\n",
              "      <td>My Worlds</td>\n",
              "      <td>Justin Bieber</td>\n",
              "      <td>2010</td>\n",
              "    </tr>\n",
              "    <tr>\n",
              "      <th>2054533</th>\n",
              "      <td>d8bfd4ec88f0f3773a9e022e3c1a0f1d3b7b6a92</td>\n",
              "      <td>SOJYOLS12A8C13C06F</td>\n",
              "      <td>1</td>\n",
              "      <td>Soil_ Soil (Album Version)</td>\n",
              "      <td>The Con</td>\n",
              "      <td>Tegan And Sara</td>\n",
              "      <td>2007</td>\n",
              "    </tr>\n",
              "  </tbody>\n",
              "</table>\n",
              "<p>2054534 rows × 7 columns</p>\n",
              "</div>\n",
              "    <div class=\"colab-df-buttons\">\n",
              "\n",
              "  <div class=\"colab-df-container\">\n",
              "    <button class=\"colab-df-convert\" onclick=\"convertToInteractive('df-425e9f2f-6f25-448a-86e7-019e7c88abb6')\"\n",
              "            title=\"Convert this dataframe to an interactive table.\"\n",
              "            style=\"display:none;\">\n",
              "\n",
              "  <svg xmlns=\"http://www.w3.org/2000/svg\" height=\"24px\" viewBox=\"0 -960 960 960\">\n",
              "    <path d=\"M120-120v-720h720v720H120Zm60-500h600v-160H180v160Zm220 220h160v-160H400v160Zm0 220h160v-160H400v160ZM180-400h160v-160H180v160Zm440 0h160v-160H620v160ZM180-180h160v-160H180v160Zm440 0h160v-160H620v160Z\"/>\n",
              "  </svg>\n",
              "    </button>\n",
              "\n",
              "  <style>\n",
              "    .colab-df-container {\n",
              "      display:flex;\n",
              "      gap: 12px;\n",
              "    }\n",
              "\n",
              "    .colab-df-convert {\n",
              "      background-color: #E8F0FE;\n",
              "      border: none;\n",
              "      border-radius: 50%;\n",
              "      cursor: pointer;\n",
              "      display: none;\n",
              "      fill: #1967D2;\n",
              "      height: 32px;\n",
              "      padding: 0 0 0 0;\n",
              "      width: 32px;\n",
              "    }\n",
              "\n",
              "    .colab-df-convert:hover {\n",
              "      background-color: #E2EBFA;\n",
              "      box-shadow: 0px 1px 2px rgba(60, 64, 67, 0.3), 0px 1px 3px 1px rgba(60, 64, 67, 0.15);\n",
              "      fill: #174EA6;\n",
              "    }\n",
              "\n",
              "    .colab-df-buttons div {\n",
              "      margin-bottom: 4px;\n",
              "    }\n",
              "\n",
              "    [theme=dark] .colab-df-convert {\n",
              "      background-color: #3B4455;\n",
              "      fill: #D2E3FC;\n",
              "    }\n",
              "\n",
              "    [theme=dark] .colab-df-convert:hover {\n",
              "      background-color: #434B5C;\n",
              "      box-shadow: 0px 1px 3px 1px rgba(0, 0, 0, 0.15);\n",
              "      filter: drop-shadow(0px 1px 2px rgba(0, 0, 0, 0.3));\n",
              "      fill: #FFFFFF;\n",
              "    }\n",
              "  </style>\n",
              "\n",
              "    <script>\n",
              "      const buttonEl =\n",
              "        document.querySelector('#df-425e9f2f-6f25-448a-86e7-019e7c88abb6 button.colab-df-convert');\n",
              "      buttonEl.style.display =\n",
              "        google.colab.kernel.accessAllowed ? 'block' : 'none';\n",
              "\n",
              "      async function convertToInteractive(key) {\n",
              "        const element = document.querySelector('#df-425e9f2f-6f25-448a-86e7-019e7c88abb6');\n",
              "        const dataTable =\n",
              "          await google.colab.kernel.invokeFunction('convertToInteractive',\n",
              "                                                    [key], {});\n",
              "        if (!dataTable) return;\n",
              "\n",
              "        const docLinkHtml = 'Like what you see? Visit the ' +\n",
              "          '<a target=\"_blank\" href=https://colab.research.google.com/notebooks/data_table.ipynb>data table notebook</a>'\n",
              "          + ' to learn more about interactive tables.';\n",
              "        element.innerHTML = '';\n",
              "        dataTable['output_type'] = 'display_data';\n",
              "        await google.colab.output.renderOutput(dataTable, element);\n",
              "        const docLink = document.createElement('div');\n",
              "        docLink.innerHTML = docLinkHtml;\n",
              "        element.appendChild(docLink);\n",
              "      }\n",
              "    </script>\n",
              "  </div>\n",
              "\n",
              "\n",
              "<div id=\"df-222a639f-1cf1-4b90-af93-53398a835c33\">\n",
              "  <button class=\"colab-df-quickchart\" onclick=\"quickchart('df-222a639f-1cf1-4b90-af93-53398a835c33')\"\n",
              "            title=\"Suggest charts\"\n",
              "            style=\"display:none;\">\n",
              "\n",
              "<svg xmlns=\"http://www.w3.org/2000/svg\" height=\"24px\"viewBox=\"0 0 24 24\"\n",
              "     width=\"24px\">\n",
              "    <g>\n",
              "        <path d=\"M19 3H5c-1.1 0-2 .9-2 2v14c0 1.1.9 2 2 2h14c1.1 0 2-.9 2-2V5c0-1.1-.9-2-2-2zM9 17H7v-7h2v7zm4 0h-2V7h2v10zm4 0h-2v-4h2v4z\"/>\n",
              "    </g>\n",
              "</svg>\n",
              "  </button>\n",
              "\n",
              "<style>\n",
              "  .colab-df-quickchart {\n",
              "      --bg-color: #E8F0FE;\n",
              "      --fill-color: #1967D2;\n",
              "      --hover-bg-color: #E2EBFA;\n",
              "      --hover-fill-color: #174EA6;\n",
              "      --disabled-fill-color: #AAA;\n",
              "      --disabled-bg-color: #DDD;\n",
              "  }\n",
              "\n",
              "  [theme=dark] .colab-df-quickchart {\n",
              "      --bg-color: #3B4455;\n",
              "      --fill-color: #D2E3FC;\n",
              "      --hover-bg-color: #434B5C;\n",
              "      --hover-fill-color: #FFFFFF;\n",
              "      --disabled-bg-color: #3B4455;\n",
              "      --disabled-fill-color: #666;\n",
              "  }\n",
              "\n",
              "  .colab-df-quickchart {\n",
              "    background-color: var(--bg-color);\n",
              "    border: none;\n",
              "    border-radius: 50%;\n",
              "    cursor: pointer;\n",
              "    display: none;\n",
              "    fill: var(--fill-color);\n",
              "    height: 32px;\n",
              "    padding: 0;\n",
              "    width: 32px;\n",
              "  }\n",
              "\n",
              "  .colab-df-quickchart:hover {\n",
              "    background-color: var(--hover-bg-color);\n",
              "    box-shadow: 0 1px 2px rgba(60, 64, 67, 0.3), 0 1px 3px 1px rgba(60, 64, 67, 0.15);\n",
              "    fill: var(--button-hover-fill-color);\n",
              "  }\n",
              "\n",
              "  .colab-df-quickchart-complete:disabled,\n",
              "  .colab-df-quickchart-complete:disabled:hover {\n",
              "    background-color: var(--disabled-bg-color);\n",
              "    fill: var(--disabled-fill-color);\n",
              "    box-shadow: none;\n",
              "  }\n",
              "\n",
              "  .colab-df-spinner {\n",
              "    border: 2px solid var(--fill-color);\n",
              "    border-color: transparent;\n",
              "    border-bottom-color: var(--fill-color);\n",
              "    animation:\n",
              "      spin 1s steps(1) infinite;\n",
              "  }\n",
              "\n",
              "  @keyframes spin {\n",
              "    0% {\n",
              "      border-color: transparent;\n",
              "      border-bottom-color: var(--fill-color);\n",
              "      border-left-color: var(--fill-color);\n",
              "    }\n",
              "    20% {\n",
              "      border-color: transparent;\n",
              "      border-left-color: var(--fill-color);\n",
              "      border-top-color: var(--fill-color);\n",
              "    }\n",
              "    30% {\n",
              "      border-color: transparent;\n",
              "      border-left-color: var(--fill-color);\n",
              "      border-top-color: var(--fill-color);\n",
              "      border-right-color: var(--fill-color);\n",
              "    }\n",
              "    40% {\n",
              "      border-color: transparent;\n",
              "      border-right-color: var(--fill-color);\n",
              "      border-top-color: var(--fill-color);\n",
              "    }\n",
              "    60% {\n",
              "      border-color: transparent;\n",
              "      border-right-color: var(--fill-color);\n",
              "    }\n",
              "    80% {\n",
              "      border-color: transparent;\n",
              "      border-right-color: var(--fill-color);\n",
              "      border-bottom-color: var(--fill-color);\n",
              "    }\n",
              "    90% {\n",
              "      border-color: transparent;\n",
              "      border-bottom-color: var(--fill-color);\n",
              "    }\n",
              "  }\n",
              "</style>\n",
              "\n",
              "  <script>\n",
              "    async function quickchart(key) {\n",
              "      const quickchartButtonEl =\n",
              "        document.querySelector('#' + key + ' button');\n",
              "      quickchartButtonEl.disabled = true;  // To prevent multiple clicks.\n",
              "      quickchartButtonEl.classList.add('colab-df-spinner');\n",
              "      try {\n",
              "        const charts = await google.colab.kernel.invokeFunction(\n",
              "            'suggestCharts', [key], {});\n",
              "      } catch (error) {\n",
              "        console.error('Error during call to suggestCharts:', error);\n",
              "      }\n",
              "      quickchartButtonEl.classList.remove('colab-df-spinner');\n",
              "      quickchartButtonEl.classList.add('colab-df-quickchart-complete');\n",
              "    }\n",
              "    (() => {\n",
              "      let quickchartButtonEl =\n",
              "        document.querySelector('#df-222a639f-1cf1-4b90-af93-53398a835c33 button');\n",
              "      quickchartButtonEl.style.display =\n",
              "        google.colab.kernel.accessAllowed ? 'block' : 'none';\n",
              "    })();\n",
              "  </script>\n",
              "</div>\n",
              "    </div>\n",
              "  </div>\n"
            ],
            "application/vnd.google.colaboratory.intrinsic+json": {
              "type": "dataframe",
              "variable_name": "df"
            }
          },
          "metadata": {},
          "execution_count": 44
        }
      ],
      "source": [
        "# Left merge the count_df and song_df data on \"song_id\". Drop duplicates from song_df data simultaneously\n",
        "df = count_df.merge(song_df.drop_duplicates(), how = \"left\", on = \"song_id\")\n",
        "# Drop the column 'Unnamed: 0'\n",
        "df = df.drop('Unnamed: 0', axis = 1)\n",
        "## Name the obtained dataframe as \"df\"\n",
        "df"
      ]
    },
    {
      "cell_type": "markdown",
      "metadata": {
        "id": "gcY5LKAQvk9J"
      },
      "source": [
        "A dataset of size 2000000 rows x 7 columns can be quite large and may require a lot of computing resources to process. This can lead to long processing times and can make it difficult to train and evaluate your model efficiently.\n",
        "In order to address this issue, it may be necessary to trim down your dataset to a more manageable size."
      ]
    },
    {
      "cell_type": "code",
      "execution_count": null,
      "metadata": {
        "id": "7GGH9TW0_9uX"
      },
      "outputs": [],
      "source": [
        "# Get the column containing the users\n",
        "users = df.user_id\n",
        "# Create a dictionary from users to their number of songs\n",
        "ratings_count = dict()\n",
        "for user in users:\n",
        "    # If we already have the user, just add 1 to their rating count\n",
        "    if user in ratings_count:\n",
        "        ratings_count[user] += 1\n",
        "    # Otherwise, set their rating count to 1\n",
        "    else:\n",
        "        ratings_count[user] = 1"
      ]
    },
    {
      "cell_type": "code",
      "execution_count": null,
      "metadata": {
        "id": "-cc6mOK7_9uX"
      },
      "outputs": [],
      "source": [
        "# We want our users to have listened at least 90 songs\n",
        "RATINGS_CUTOFF = 90\n",
        "remove_users = []\n",
        "for user, num_ratings in ratings_count.items():\n",
        "    if num_ratings < RATINGS_CUTOFF:\n",
        "        remove_users.append(user)\n",
        "df = df.loc[~df.user_id.isin(remove_users)]"
      ]
    },
    {
      "cell_type": "code",
      "execution_count": null,
      "metadata": {
        "id": "B5BS-Wk5_9uY"
      },
      "outputs": [],
      "source": [
        "# Get the column containing the songs\n",
        "songs = df.song_id\n",
        "# Create a dictionary from songs to their number of users\n",
        "ratings_count = dict()\n",
        "for song in songs:\n",
        "    # If we already have the song, just add 1 to their rating count\n",
        "    if song in ratings_count:\n",
        "        ratings_count[song] += 1\n",
        "    # Otherwise, set their rating count to 1\n",
        "    else:\n",
        "        ratings_count[song] = 1"
      ]
    },
    {
      "cell_type": "code",
      "execution_count": null,
      "metadata": {
        "id": "_nCtGwGO_9uY"
      },
      "outputs": [],
      "source": [
        "# We want our song to be listened by atleast 120 users to be considred\n",
        "RATINGS_CUTOFF = 120\n",
        "remove_songs = []\n",
        "for song, num_ratings in ratings_count.items():\n",
        "    if num_ratings < RATINGS_CUTOFF:\n",
        "        remove_songs.append(song)\n",
        "df_final= df.loc[~df.song_id.isin(remove_songs)]"
      ]
    },
    {
      "cell_type": "code",
      "execution_count": null,
      "metadata": {
        "id": "8qaKeoMcGpad"
      },
      "outputs": [],
      "source": [
        "# Drop records with play_count more than(>) 5\n",
        "df_final=df_final[df_final.play_count<=5]"
      ]
    },
    {
      "cell_type": "code",
      "execution_count": null,
      "metadata": {
        "colab": {
          "base_uri": "https://localhost:8080/"
        },
        "id": "aL1JZ00o5JtQ",
        "outputId": "739380d2-8a0c-472e-e93f-93812005a266"
      },
      "outputs": [
        {
          "output_type": "execute_result",
          "data": {
            "text/plain": [
              "(138301, 7)"
            ]
          },
          "metadata": {},
          "execution_count": 50
        }
      ],
      "source": [
        "# Check the shape of the data\n",
        "df_final.shape"
      ]
    },
    {
      "cell_type": "markdown",
      "source": [
        "### Let's check for duplicate observations"
      ],
      "metadata": {
        "id": "m88iBPFd9odS"
      }
    },
    {
      "cell_type": "code",
      "execution_count": null,
      "metadata": {
        "id": "Iz8-rRLuoNwz",
        "colab": {
          "base_uri": "https://localhost:8080/"
        },
        "outputId": "3fcae867-f35f-4729-ccb4-77fcb2085f2b"
      },
      "outputs": [
        {
          "output_type": "execute_result",
          "data": {
            "text/plain": [
              "57"
            ]
          },
          "metadata": {},
          "execution_count": 51
        }
      ],
      "source": [
        "# Group the dataframe by 'user_id' and 'song_id', counting the occurrences of each combination\n",
        "df_final_agrupado = df_final.groupby(['user_id', 'song_id']).count()\n",
        "# Identify duplicate songs where the play count exceeds 2 instances\n",
        "songs_duplicates = df_final_agrupado[df_final_agrupado['title'] > 1].reset_index()['song_id'].value_counts().index.tolist()\n",
        "len(songs_duplicates)"
      ]
    },
    {
      "cell_type": "markdown",
      "metadata": {
        "id": "cFCrfyzosUmg"
      },
      "source": [
        "We have obtained 57 repeat songs. Let's see if these differ in the title. The objective is to be able to eliminate duplicates based on song_id, user_id and title. To do this we have to ensure that we do not obtain more than 57 titles.\n"
      ]
    },
    {
      "cell_type": "code",
      "source": [
        "# Display the name of duplicatte songs\n",
        "title_duplicate_songs = df_final[df_final['song_id'].isin(songs_duplicates)].groupby(['song_id', 'user_id', 'title']).count().reset_index()['title'].unique()\n",
        "print(\"The number of titles different from duplicate songs:\", len(title_duplicate_songs))\n",
        "title_duplicate_songs"
      ],
      "metadata": {
        "colab": {
          "base_uri": "https://localhost:8080/"
        },
        "id": "Tp5CsRlMj8pM",
        "outputId": "adaf9314-b056-4512-d8ef-1fc21e5e9ae5"
      },
      "execution_count": null,
      "outputs": [
        {
          "output_type": "stream",
          "name": "stdout",
          "text": [
            "The number of titles different from duplicate songs: 68\n"
          ]
        },
        {
          "output_type": "execute_result",
          "data": {
            "text/plain": [
              "array([\"Adam's Song\", 'Piggy', 'Lemme Get That', 'Seven Nation Army',\n",
              "       'Seven Nation Army (Album Version)', 'Invincible', 'So Lonely',\n",
              "       'Fake Tales Of San Francisco',\n",
              "       'Fake Tales Of San Francisco (Explicit)', 'Your Woman',\n",
              "       'Somebody To Love', \"Hips Don't Lie\",\n",
              "       \"Hips Don't Lie (featuring Wyclef Jean)\", '22', 'I Might Be Wrong',\n",
              "       'Not Fair', 'Not Fair (Clean Radio Edit)', 'There_ There',\n",
              "       'Crack A Bottle', \"Road Trippin' (Album Version)\",\n",
              "       'Message In A Bottle', 'Do We Need This?', 'My Immortal',\n",
              "       'My Immortal (Album Version)', 'Brianstorm',\n",
              "       'Supermassive Black Hole (Album Version)',\n",
              "       'Supermassive Black Hole (Twilight Soundtrack Version)',\n",
              "       'Dance_ Dance', 'Did It Again',\n",
              "       'Did It Again (featuring Kid Cudi)', 'Did it Again',\n",
              "       'Too Far Gone', 'The Real Slim Shady', \"Don't Stop The Music\",\n",
              "       'Always', 'Live And Let Die', 'The Trouble With Love Is',\n",
              "       'Teddy Picker', 'Teddy Picker (Explicit)', 'Until The End Of Time',\n",
              "       'No You Girls', 'Angie', 'Angie (1993 Digital Remaster)',\n",
              "       \"Say It Ain't So\", 'Flashing Lights', 'My Name Is',\n",
              "       'My Paper Heart', 'Him', 'Spirits In The Material World', 'Smile',\n",
              "       'Smile (Explicit Version)', 'Genius', 'Yellow',\n",
              "       'My Life Would Suck Without You', 'Tangerine  (Album Version)',\n",
              "       'LDN', \"Savin' Me\", 'Love Story',\n",
              "       \"Nothin' On You [feat. Bruno Mars] (Album Version)\",\n",
              "       'You Only Live Once', 'Pistol Of Fire', 'Use Somebody', 'Everlong',\n",
              "       \"Can't Take My Eyes Off You\", 'Never Gonna Happen',\n",
              "       'California Waiting', 'Cheryl Tweedy', '42'], dtype=object)"
            ]
          },
          "metadata": {},
          "execution_count": 52
        }
      ]
    },
    {
      "cell_type": "markdown",
      "source": [
        "We get 11 repeated titles. We are going to clean the text of the titles, where the information in the parentheses will be eliminated and it will be converted to lowercase."
      ],
      "metadata": {
        "id": "3nivDExTqVMZ"
      }
    },
    {
      "cell_type": "code",
      "source": [
        "import re\n",
        "def normalize_titles(title):\n",
        "    # Convertir a minúsculas\n",
        "    title = title.lower()\n",
        "    # Eliminar información entre paréntesis\n",
        "    title = re.sub(r'\\(.*?\\)', '', title)\n",
        "    # Eliminar espacios en blanco extra y caracteres especiales\n",
        "    title = re.sub(r'\\s+', ' ', title).strip()\n",
        "    return title\n",
        "\n",
        "df_final['title_normalized'] = df_final['title'].apply(normalize_titles)\n",
        "title_duplicate_songs = df_final[df_final['song_id'].isin(songs_duplicates)].groupby(['song_id', 'user_id', 'title_normalized']).count().reset_index()['title_normalized'].unique()\n",
        "print(\"The number of titles different from duplicate songs:\", len(title_duplicate_songs))"
      ],
      "metadata": {
        "colab": {
          "base_uri": "https://localhost:8080/"
        },
        "id": "sAd_9cRPqxs5",
        "outputId": "e5261b88-bc36-4f12-e301-fadc3a08ef43"
      },
      "execution_count": null,
      "outputs": [
        {
          "output_type": "stream",
          "name": "stdout",
          "text": [
            "The number of titles different from duplicate songs: 57\n"
          ]
        }
      ]
    },
    {
      "cell_type": "code",
      "source": [
        "rows_to_delete = df_final[df_final.duplicated(subset= ['song_id', 'user_id', 'title'])].shape[0]\n",
        "print(\"Number of rows to delete:\", rows_to_delete)\n",
        "df_final_no_duplicates = df_final.drop_duplicates(subset= ['song_id', 'user_id', 'title']).drop('title_normalized', axis = 1)\n",
        "df_final_no_duplicates"
      ],
      "metadata": {
        "colab": {
          "base_uri": "https://localhost:8080/",
          "height": 441
        },
        "id": "cCcUl8mJkdfN",
        "outputId": "d5683b50-7517-41ef-bb35-65dc2b6ecf4a"
      },
      "execution_count": null,
      "outputs": [
        {
          "output_type": "stream",
          "name": "stdout",
          "text": [
            "Number of rows to delete: 7909\n"
          ]
        },
        {
          "output_type": "execute_result",
          "data": {
            "text/plain": [
              "                                          user_id             song_id  \\\n",
              "206      17aa9f6dbdf753831da8f38c71b66b64373de613  SOBDVAK12AC90759A2   \n",
              "208      17aa9f6dbdf753831da8f38c71b66b64373de613  SOBIMTY12A6D4F931F   \n",
              "209      17aa9f6dbdf753831da8f38c71b66b64373de613  SOBKRVG12A8C133269   \n",
              "210      17aa9f6dbdf753831da8f38c71b66b64373de613  SOBUBLL12A58A795A8   \n",
              "211      17aa9f6dbdf753831da8f38c71b66b64373de613  SOBVKFF12A8C137A79   \n",
              "...                                           ...                 ...   \n",
              "2054259  9fb0717a34c90c91ce09ab460969a8a428d3ac87  SOXNZOW12AB017F756   \n",
              "2054261  9fb0717a34c90c91ce09ab460969a8a428d3ac87  SOXQYSC12A6310E908   \n",
              "2054270  9fb0717a34c90c91ce09ab460969a8a428d3ac87  SOYDTIW12A67ADAFC9   \n",
              "2054280  9fb0717a34c90c91ce09ab460969a8a428d3ac87  SOYQQAC12A6D4FD59E   \n",
              "2054290  9fb0717a34c90c91ce09ab460969a8a428d3ac87  SOZOIUU12A67ADFA39   \n",
              "\n",
              "         play_count                            title                release  \\\n",
              "206               1               Daisy And Prudence           Distillation   \n",
              "208               1  The Ballad of Michael Valentine                Sawdust   \n",
              "209               1        I Stand Corrected (Album)        Vampire Weekend   \n",
              "210               1            They Might Follow You            Tiny Vipers   \n",
              "211               1                       Monkey Man   You Know I'm No Good   \n",
              "...             ...                              ...                    ...   \n",
              "2054259           1                 Half Of My Heart         Battle Studies   \n",
              "2054261           1            Bitter Sweet Symphony  Bitter Sweet Symphony   \n",
              "2054270           2       The Police And The Private            Live It Out   \n",
              "2054280           1                     Just Friends          Back To Black   \n",
              "2054290           1             He Can Only Hold Her          Back To Black   \n",
              "\n",
              "             artist_name  year  \n",
              "206         Erin McKeown  2000  \n",
              "208          The Killers  2004  \n",
              "209      Vampire Weekend  2007  \n",
              "210          Tiny Vipers  2007  \n",
              "211        Amy Winehouse  2007  \n",
              "...                  ...   ...  \n",
              "2054259       John Mayer     0  \n",
              "2054261        The Verve  1997  \n",
              "2054270           Metric  2005  \n",
              "2054280    Amy Winehouse  2006  \n",
              "2054290    Amy Winehouse  2006  \n",
              "\n",
              "[130392 rows x 7 columns]"
            ],
            "text/html": [
              "\n",
              "  <div id=\"df-446b0147-ccd0-4682-8299-eed34031269b\" class=\"colab-df-container\">\n",
              "    <div>\n",
              "<style scoped>\n",
              "    .dataframe tbody tr th:only-of-type {\n",
              "        vertical-align: middle;\n",
              "    }\n",
              "\n",
              "    .dataframe tbody tr th {\n",
              "        vertical-align: top;\n",
              "    }\n",
              "\n",
              "    .dataframe thead th {\n",
              "        text-align: right;\n",
              "    }\n",
              "</style>\n",
              "<table border=\"1\" class=\"dataframe\">\n",
              "  <thead>\n",
              "    <tr style=\"text-align: right;\">\n",
              "      <th></th>\n",
              "      <th>user_id</th>\n",
              "      <th>song_id</th>\n",
              "      <th>play_count</th>\n",
              "      <th>title</th>\n",
              "      <th>release</th>\n",
              "      <th>artist_name</th>\n",
              "      <th>year</th>\n",
              "    </tr>\n",
              "  </thead>\n",
              "  <tbody>\n",
              "    <tr>\n",
              "      <th>206</th>\n",
              "      <td>17aa9f6dbdf753831da8f38c71b66b64373de613</td>\n",
              "      <td>SOBDVAK12AC90759A2</td>\n",
              "      <td>1</td>\n",
              "      <td>Daisy And Prudence</td>\n",
              "      <td>Distillation</td>\n",
              "      <td>Erin McKeown</td>\n",
              "      <td>2000</td>\n",
              "    </tr>\n",
              "    <tr>\n",
              "      <th>208</th>\n",
              "      <td>17aa9f6dbdf753831da8f38c71b66b64373de613</td>\n",
              "      <td>SOBIMTY12A6D4F931F</td>\n",
              "      <td>1</td>\n",
              "      <td>The Ballad of Michael Valentine</td>\n",
              "      <td>Sawdust</td>\n",
              "      <td>The Killers</td>\n",
              "      <td>2004</td>\n",
              "    </tr>\n",
              "    <tr>\n",
              "      <th>209</th>\n",
              "      <td>17aa9f6dbdf753831da8f38c71b66b64373de613</td>\n",
              "      <td>SOBKRVG12A8C133269</td>\n",
              "      <td>1</td>\n",
              "      <td>I Stand Corrected (Album)</td>\n",
              "      <td>Vampire Weekend</td>\n",
              "      <td>Vampire Weekend</td>\n",
              "      <td>2007</td>\n",
              "    </tr>\n",
              "    <tr>\n",
              "      <th>210</th>\n",
              "      <td>17aa9f6dbdf753831da8f38c71b66b64373de613</td>\n",
              "      <td>SOBUBLL12A58A795A8</td>\n",
              "      <td>1</td>\n",
              "      <td>They Might Follow You</td>\n",
              "      <td>Tiny Vipers</td>\n",
              "      <td>Tiny Vipers</td>\n",
              "      <td>2007</td>\n",
              "    </tr>\n",
              "    <tr>\n",
              "      <th>211</th>\n",
              "      <td>17aa9f6dbdf753831da8f38c71b66b64373de613</td>\n",
              "      <td>SOBVKFF12A8C137A79</td>\n",
              "      <td>1</td>\n",
              "      <td>Monkey Man</td>\n",
              "      <td>You Know I'm No Good</td>\n",
              "      <td>Amy Winehouse</td>\n",
              "      <td>2007</td>\n",
              "    </tr>\n",
              "    <tr>\n",
              "      <th>...</th>\n",
              "      <td>...</td>\n",
              "      <td>...</td>\n",
              "      <td>...</td>\n",
              "      <td>...</td>\n",
              "      <td>...</td>\n",
              "      <td>...</td>\n",
              "      <td>...</td>\n",
              "    </tr>\n",
              "    <tr>\n",
              "      <th>2054259</th>\n",
              "      <td>9fb0717a34c90c91ce09ab460969a8a428d3ac87</td>\n",
              "      <td>SOXNZOW12AB017F756</td>\n",
              "      <td>1</td>\n",
              "      <td>Half Of My Heart</td>\n",
              "      <td>Battle Studies</td>\n",
              "      <td>John Mayer</td>\n",
              "      <td>0</td>\n",
              "    </tr>\n",
              "    <tr>\n",
              "      <th>2054261</th>\n",
              "      <td>9fb0717a34c90c91ce09ab460969a8a428d3ac87</td>\n",
              "      <td>SOXQYSC12A6310E908</td>\n",
              "      <td>1</td>\n",
              "      <td>Bitter Sweet Symphony</td>\n",
              "      <td>Bitter Sweet Symphony</td>\n",
              "      <td>The Verve</td>\n",
              "      <td>1997</td>\n",
              "    </tr>\n",
              "    <tr>\n",
              "      <th>2054270</th>\n",
              "      <td>9fb0717a34c90c91ce09ab460969a8a428d3ac87</td>\n",
              "      <td>SOYDTIW12A67ADAFC9</td>\n",
              "      <td>2</td>\n",
              "      <td>The Police And The Private</td>\n",
              "      <td>Live It Out</td>\n",
              "      <td>Metric</td>\n",
              "      <td>2005</td>\n",
              "    </tr>\n",
              "    <tr>\n",
              "      <th>2054280</th>\n",
              "      <td>9fb0717a34c90c91ce09ab460969a8a428d3ac87</td>\n",
              "      <td>SOYQQAC12A6D4FD59E</td>\n",
              "      <td>1</td>\n",
              "      <td>Just Friends</td>\n",
              "      <td>Back To Black</td>\n",
              "      <td>Amy Winehouse</td>\n",
              "      <td>2006</td>\n",
              "    </tr>\n",
              "    <tr>\n",
              "      <th>2054290</th>\n",
              "      <td>9fb0717a34c90c91ce09ab460969a8a428d3ac87</td>\n",
              "      <td>SOZOIUU12A67ADFA39</td>\n",
              "      <td>1</td>\n",
              "      <td>He Can Only Hold Her</td>\n",
              "      <td>Back To Black</td>\n",
              "      <td>Amy Winehouse</td>\n",
              "      <td>2006</td>\n",
              "    </tr>\n",
              "  </tbody>\n",
              "</table>\n",
              "<p>130392 rows × 7 columns</p>\n",
              "</div>\n",
              "    <div class=\"colab-df-buttons\">\n",
              "\n",
              "  <div class=\"colab-df-container\">\n",
              "    <button class=\"colab-df-convert\" onclick=\"convertToInteractive('df-446b0147-ccd0-4682-8299-eed34031269b')\"\n",
              "            title=\"Convert this dataframe to an interactive table.\"\n",
              "            style=\"display:none;\">\n",
              "\n",
              "  <svg xmlns=\"http://www.w3.org/2000/svg\" height=\"24px\" viewBox=\"0 -960 960 960\">\n",
              "    <path d=\"M120-120v-720h720v720H120Zm60-500h600v-160H180v160Zm220 220h160v-160H400v160Zm0 220h160v-160H400v160ZM180-400h160v-160H180v160Zm440 0h160v-160H620v160ZM180-180h160v-160H180v160Zm440 0h160v-160H620v160Z\"/>\n",
              "  </svg>\n",
              "    </button>\n",
              "\n",
              "  <style>\n",
              "    .colab-df-container {\n",
              "      display:flex;\n",
              "      gap: 12px;\n",
              "    }\n",
              "\n",
              "    .colab-df-convert {\n",
              "      background-color: #E8F0FE;\n",
              "      border: none;\n",
              "      border-radius: 50%;\n",
              "      cursor: pointer;\n",
              "      display: none;\n",
              "      fill: #1967D2;\n",
              "      height: 32px;\n",
              "      padding: 0 0 0 0;\n",
              "      width: 32px;\n",
              "    }\n",
              "\n",
              "    .colab-df-convert:hover {\n",
              "      background-color: #E2EBFA;\n",
              "      box-shadow: 0px 1px 2px rgba(60, 64, 67, 0.3), 0px 1px 3px 1px rgba(60, 64, 67, 0.15);\n",
              "      fill: #174EA6;\n",
              "    }\n",
              "\n",
              "    .colab-df-buttons div {\n",
              "      margin-bottom: 4px;\n",
              "    }\n",
              "\n",
              "    [theme=dark] .colab-df-convert {\n",
              "      background-color: #3B4455;\n",
              "      fill: #D2E3FC;\n",
              "    }\n",
              "\n",
              "    [theme=dark] .colab-df-convert:hover {\n",
              "      background-color: #434B5C;\n",
              "      box-shadow: 0px 1px 3px 1px rgba(0, 0, 0, 0.15);\n",
              "      filter: drop-shadow(0px 1px 2px rgba(0, 0, 0, 0.3));\n",
              "      fill: #FFFFFF;\n",
              "    }\n",
              "  </style>\n",
              "\n",
              "    <script>\n",
              "      const buttonEl =\n",
              "        document.querySelector('#df-446b0147-ccd0-4682-8299-eed34031269b button.colab-df-convert');\n",
              "      buttonEl.style.display =\n",
              "        google.colab.kernel.accessAllowed ? 'block' : 'none';\n",
              "\n",
              "      async function convertToInteractive(key) {\n",
              "        const element = document.querySelector('#df-446b0147-ccd0-4682-8299-eed34031269b');\n",
              "        const dataTable =\n",
              "          await google.colab.kernel.invokeFunction('convertToInteractive',\n",
              "                                                    [key], {});\n",
              "        if (!dataTable) return;\n",
              "\n",
              "        const docLinkHtml = 'Like what you see? Visit the ' +\n",
              "          '<a target=\"_blank\" href=https://colab.research.google.com/notebooks/data_table.ipynb>data table notebook</a>'\n",
              "          + ' to learn more about interactive tables.';\n",
              "        element.innerHTML = '';\n",
              "        dataTable['output_type'] = 'display_data';\n",
              "        await google.colab.output.renderOutput(dataTable, element);\n",
              "        const docLink = document.createElement('div');\n",
              "        docLink.innerHTML = docLinkHtml;\n",
              "        element.appendChild(docLink);\n",
              "      }\n",
              "    </script>\n",
              "  </div>\n",
              "\n",
              "\n",
              "<div id=\"df-1eeccf5e-c33d-4763-9dc9-d78c8ab89f71\">\n",
              "  <button class=\"colab-df-quickchart\" onclick=\"quickchart('df-1eeccf5e-c33d-4763-9dc9-d78c8ab89f71')\"\n",
              "            title=\"Suggest charts\"\n",
              "            style=\"display:none;\">\n",
              "\n",
              "<svg xmlns=\"http://www.w3.org/2000/svg\" height=\"24px\"viewBox=\"0 0 24 24\"\n",
              "     width=\"24px\">\n",
              "    <g>\n",
              "        <path d=\"M19 3H5c-1.1 0-2 .9-2 2v14c0 1.1.9 2 2 2h14c1.1 0 2-.9 2-2V5c0-1.1-.9-2-2-2zM9 17H7v-7h2v7zm4 0h-2V7h2v10zm4 0h-2v-4h2v4z\"/>\n",
              "    </g>\n",
              "</svg>\n",
              "  </button>\n",
              "\n",
              "<style>\n",
              "  .colab-df-quickchart {\n",
              "      --bg-color: #E8F0FE;\n",
              "      --fill-color: #1967D2;\n",
              "      --hover-bg-color: #E2EBFA;\n",
              "      --hover-fill-color: #174EA6;\n",
              "      --disabled-fill-color: #AAA;\n",
              "      --disabled-bg-color: #DDD;\n",
              "  }\n",
              "\n",
              "  [theme=dark] .colab-df-quickchart {\n",
              "      --bg-color: #3B4455;\n",
              "      --fill-color: #D2E3FC;\n",
              "      --hover-bg-color: #434B5C;\n",
              "      --hover-fill-color: #FFFFFF;\n",
              "      --disabled-bg-color: #3B4455;\n",
              "      --disabled-fill-color: #666;\n",
              "  }\n",
              "\n",
              "  .colab-df-quickchart {\n",
              "    background-color: var(--bg-color);\n",
              "    border: none;\n",
              "    border-radius: 50%;\n",
              "    cursor: pointer;\n",
              "    display: none;\n",
              "    fill: var(--fill-color);\n",
              "    height: 32px;\n",
              "    padding: 0;\n",
              "    width: 32px;\n",
              "  }\n",
              "\n",
              "  .colab-df-quickchart:hover {\n",
              "    background-color: var(--hover-bg-color);\n",
              "    box-shadow: 0 1px 2px rgba(60, 64, 67, 0.3), 0 1px 3px 1px rgba(60, 64, 67, 0.15);\n",
              "    fill: var(--button-hover-fill-color);\n",
              "  }\n",
              "\n",
              "  .colab-df-quickchart-complete:disabled,\n",
              "  .colab-df-quickchart-complete:disabled:hover {\n",
              "    background-color: var(--disabled-bg-color);\n",
              "    fill: var(--disabled-fill-color);\n",
              "    box-shadow: none;\n",
              "  }\n",
              "\n",
              "  .colab-df-spinner {\n",
              "    border: 2px solid var(--fill-color);\n",
              "    border-color: transparent;\n",
              "    border-bottom-color: var(--fill-color);\n",
              "    animation:\n",
              "      spin 1s steps(1) infinite;\n",
              "  }\n",
              "\n",
              "  @keyframes spin {\n",
              "    0% {\n",
              "      border-color: transparent;\n",
              "      border-bottom-color: var(--fill-color);\n",
              "      border-left-color: var(--fill-color);\n",
              "    }\n",
              "    20% {\n",
              "      border-color: transparent;\n",
              "      border-left-color: var(--fill-color);\n",
              "      border-top-color: var(--fill-color);\n",
              "    }\n",
              "    30% {\n",
              "      border-color: transparent;\n",
              "      border-left-color: var(--fill-color);\n",
              "      border-top-color: var(--fill-color);\n",
              "      border-right-color: var(--fill-color);\n",
              "    }\n",
              "    40% {\n",
              "      border-color: transparent;\n",
              "      border-right-color: var(--fill-color);\n",
              "      border-top-color: var(--fill-color);\n",
              "    }\n",
              "    60% {\n",
              "      border-color: transparent;\n",
              "      border-right-color: var(--fill-color);\n",
              "    }\n",
              "    80% {\n",
              "      border-color: transparent;\n",
              "      border-right-color: var(--fill-color);\n",
              "      border-bottom-color: var(--fill-color);\n",
              "    }\n",
              "    90% {\n",
              "      border-color: transparent;\n",
              "      border-bottom-color: var(--fill-color);\n",
              "    }\n",
              "  }\n",
              "</style>\n",
              "\n",
              "  <script>\n",
              "    async function quickchart(key) {\n",
              "      const quickchartButtonEl =\n",
              "        document.querySelector('#' + key + ' button');\n",
              "      quickchartButtonEl.disabled = true;  // To prevent multiple clicks.\n",
              "      quickchartButtonEl.classList.add('colab-df-spinner');\n",
              "      try {\n",
              "        const charts = await google.colab.kernel.invokeFunction(\n",
              "            'suggestCharts', [key], {});\n",
              "      } catch (error) {\n",
              "        console.error('Error during call to suggestCharts:', error);\n",
              "      }\n",
              "      quickchartButtonEl.classList.remove('colab-df-spinner');\n",
              "      quickchartButtonEl.classList.add('colab-df-quickchart-complete');\n",
              "    }\n",
              "    (() => {\n",
              "      let quickchartButtonEl =\n",
              "        document.querySelector('#df-1eeccf5e-c33d-4763-9dc9-d78c8ab89f71 button');\n",
              "      quickchartButtonEl.style.display =\n",
              "        google.colab.kernel.accessAllowed ? 'block' : 'none';\n",
              "    })();\n",
              "  </script>\n",
              "</div>\n",
              "    </div>\n",
              "  </div>\n"
            ],
            "application/vnd.google.colaboratory.intrinsic+json": {
              "type": "dataframe",
              "variable_name": "df_final_no_duplicates"
            }
          },
          "metadata": {},
          "execution_count": 54
        }
      ]
    },
    {
      "cell_type": "markdown",
      "source": [
        "We have removed 10015 duplicate observations."
      ],
      "metadata": {
        "id": "ts6WTvFibffH"
      }
    },
    {
      "cell_type": "code",
      "source": [
        "df_final_no_duplicates.to_csv('df_final.csv')"
      ],
      "metadata": {
        "id": "mW4t2F1WgSje"
      },
      "execution_count": null,
      "outputs": []
    },
    {
      "cell_type": "markdown",
      "source": [
        "### Preparatory Steps: Library Importation, Utility Function Creation, and Data Preparation"
      ],
      "metadata": {
        "id": "XHP0ZzZQWSZY"
      }
    },
    {
      "cell_type": "code",
      "execution_count": null,
      "metadata": {
        "colab": {
          "base_uri": "https://localhost:8080/"
        },
        "id": "aKLrKn8IfGjk",
        "outputId": "d9185039-98f5-41ae-af25-8d5e49e48674"
      },
      "outputs": [
        {
          "output_type": "stream",
          "name": "stdout",
          "text": [
            "Requirement already satisfied: surprise in /usr/local/lib/python3.10/dist-packages (0.1)\n",
            "Requirement already satisfied: scikit-surprise in /usr/local/lib/python3.10/dist-packages (from surprise) (1.1.3)\n",
            "Requirement already satisfied: joblib>=1.0.0 in /usr/local/lib/python3.10/dist-packages (from scikit-surprise->surprise) (1.3.2)\n",
            "Requirement already satisfied: numpy>=1.17.3 in /usr/local/lib/python3.10/dist-packages (from scikit-surprise->surprise) (1.25.2)\n",
            "Requirement already satisfied: scipy>=1.3.2 in /usr/local/lib/python3.10/dist-packages (from scikit-surprise->surprise) (1.11.4)\n"
          ]
        }
      ],
      "source": [
        "# Install the surprise package using pip. Uncomment and run the below code to do the same\n",
        "\n",
        "!pip install surprise"
      ]
    },
    {
      "cell_type": "code",
      "execution_count": null,
      "metadata": {
        "id": "UJ1wEylUpexj"
      },
      "outputs": [],
      "source": [
        "# Import necessary libraries\n",
        "\n",
        "# To compute the accuracy of models\n",
        "from surprise import accuracy\n",
        "\n",
        "# This class is used to parse a file containing play_counts, data should be in structure - user; item; play_count\n",
        "from surprise.reader import Reader\n",
        "\n",
        "# Class for loading datasets\n",
        "from surprise.dataset import Dataset\n",
        "\n",
        "# For tuning model hyperparameters\n",
        "from surprise.model_selection import GridSearchCV\n",
        "\n",
        "# For splitting the data in train and test dataset\n",
        "from surprise.model_selection import train_test_split\n",
        "\n",
        "# For implementing similarity-based recommendation system\n",
        "from surprise.prediction_algorithms.knns import KNNBasic\n",
        "\n",
        "# For implementing matrix factorization based recommendation system\n",
        "from surprise.prediction_algorithms.matrix_factorization import SVD\n",
        "\n",
        "# For implementing KFold cross-validation\n",
        "from surprise.model_selection import KFold\n",
        "\n",
        "# For implementing clustering-based recommendation system\n",
        "from surprise import CoClustering"
      ]
    },
    {
      "cell_type": "code",
      "execution_count": null,
      "metadata": {
        "id": "Rxn-GahOTsnm"
      },
      "outputs": [],
      "source": [
        "# The function to calulate the RMSE, precision@k, recall@k, and F_1 score\n",
        "def precision_recall_at_k(model, k = 30, threshold = 1.5):\n",
        "    \"\"\"Return precision and recall at k metrics for each user\"\"\"\n",
        "\n",
        "    # First map the predictions to each user.\n",
        "    user_est_true = defaultdict(list)\n",
        "\n",
        "    # Making predictions on the test data\n",
        "    predictions=model.test(testset)\n",
        "\n",
        "    for uid, _, true_r, est, _ in predictions:\n",
        "        user_est_true[uid].append((est, true_r))\n",
        "\n",
        "    precisions = dict()\n",
        "    recalls = dict()\n",
        "    for uid, user_ratings in user_est_true.items():\n",
        "\n",
        "        # Sort user ratings by estimated value\n",
        "        user_ratings.sort(key = lambda x : x[0], reverse = True)\n",
        "\n",
        "        # Number of relevant items\n",
        "        n_rel = sum((true_r >= threshold) for (_, true_r) in user_ratings)\n",
        "\n",
        "        # Number of recommended items in top k\n",
        "        n_rec_k = sum((est >= threshold) for (est, _) in user_ratings[ : k])\n",
        "\n",
        "        # Number of relevant and recommended items in top k\n",
        "        n_rel_and_rec_k = sum(((true_r >= threshold) and (est >= threshold))\n",
        "                              for (est, true_r) in user_ratings[ : k])\n",
        "\n",
        "        # Precision@K: Proportion of recommended items that are relevant\n",
        "        # When n_rec_k is 0, Precision is undefined. We here set Precision to 0 when n_rec_k is 0\n",
        "\n",
        "        precisions[uid] = n_rel_and_rec_k / n_rec_k if n_rec_k != 0 else 0\n",
        "\n",
        "        # Recall@K: Proportion of relevant items that are recommended\n",
        "        # When n_rel is 0, Recall is undefined. We here set Recall to 0 when n_rel is 0\n",
        "\n",
        "        recalls[uid] = n_rel_and_rec_k / n_rel if n_rel != 0 else 0\n",
        "\n",
        "    # Mean of all the predicted precisions are calculated\n",
        "    precision = round((sum(prec for prec in precisions.values()) / len(precisions)), 3)\n",
        "\n",
        "    # Mean of all the predicted recalls are calculated\n",
        "    recall = round((sum(rec for rec in recalls.values()) / len(recalls)), 3)\n",
        "\n",
        "    accuracy.rmse(predictions)\n",
        "\n",
        "    # Command to print the overall precision\n",
        "    print('Precision: ', precision)\n",
        "\n",
        "    # Command to print the overall recall\n",
        "    print('Recall: ', recall)\n",
        "\n",
        "    # Formula to compute the F-1 score\n",
        "    print('F_1 score: ', round((2 * precision * recall) / (precision + recall), 3))"
      ]
    },
    {
      "cell_type": "code",
      "execution_count": null,
      "metadata": {
        "id": "rGfYDiOCpe4X"
      },
      "outputs": [],
      "source": [
        "# Instantiating Reader scale with expected rating scale\n",
        " #use rating scale (0, 5)\n",
        "reader = Reader(rating_scale = (0, 5))\n",
        "\n",
        "# Loading the dataset\n",
        " # Take only \"user_id\",\"song_id\", and \"play_count\"\n",
        "data = Dataset.load_from_df(df_final_no_duplicates[['user_id', 'song_id', 'play_count']], reader)\n",
        "\n",
        "# Splitting the data into train and test dataset\n",
        " # Take test_size = 0.4, random_state = 42\n",
        "trainset, testset = train_test_split(data, test_size = 0.4, random_state = 42)"
      ]
    },
    {
      "cell_type": "code",
      "source": [
        "# Split each user in test_df into two subsets: 60% for generation, 40% for evaluation.\n",
        "def split_user_data(df, test_generation_frac=0.6):\n",
        "    test_generation = pd.DataFrame()\n",
        "    test_evaluation = pd.DataFrame()\n",
        "\n",
        "    for user_id in df['user_id'].unique():\n",
        "        user_data = df[df['user_id'] == user_id]\n",
        "        split_idx = int(len(user_data) * test_generation_frac)\n",
        "\n",
        "        user_test_generation = user_data.iloc[:split_idx]\n",
        "        user_test_evaluation = user_data.iloc[split_idx:]\n",
        "\n",
        "        test_generation = pd.concat([test_generation, user_test_generation])\n",
        "        test_evaluation = pd.concat([test_evaluation, user_test_evaluation])\n",
        "\n",
        "    return test_generation, test_evaluation\n",
        "\n",
        "# Convert testset from Surprise to DataFrame\n",
        "test_df = pd.DataFrame(testset, columns=['user_id', 'song_id', 'play_count'])\n",
        "\n",
        "# Split test datset using the function split_user_data()\n",
        "test_generation_df, test_evaluation_df = split_user_data(test_df)\n",
        "\n",
        "test_generation = [(row['user_id'], row['song_id'], row['play_count']) for index, row in test_generation_df.iterrows()]\n",
        "test_evaluation = [(row['user_id'], row['song_id'], row['play_count']) for index, row in test_evaluation_df.iterrows()]\n",
        "\n"
      ],
      "metadata": {
        "id": "qscq8e-8P9NN"
      },
      "execution_count": null,
      "outputs": []
    },
    {
      "cell_type": "markdown",
      "metadata": {
        "id": "9VThYg7voGIz"
      },
      "source": [
        "### **Hybrid Model**"
      ]
    },
    {
      "cell_type": "markdown",
      "source": [
        "\n",
        "In line with the proposals outlined in the milestone submission, we will proceed to develop and evaluate a hybrid model that integrates the capabilities of optimized SVD with a content-based approach. This strategy aims to capitalize on the precision in rating prediction offered by SVD, while enriching the personalization of recommendations through detailed analysis of the textual characteristics of the songs. By merging these two methods, we aspire to create a more robust and adaptive recommendation system that can provide highly relevant and personalized recommendations to each user.\n",
        "\n",
        "For the evaluation of this hybrid model, we have adopted a meticulous approach to data division. Initially, we divided our dataset into two: a training set and a test set, using 60% for training and 40% for testing. Subsequently, for a more detailed evaluation, we divided the test set into two subsets: one for generating recommendations (60% of the test data) and another for evaluating these recommendations (the remaining 40%). This strategy allows us not only to generate recommendations based on a significant portion of user behavior but also to evaluate the precision and relevance of these recommendations in a distinct set of user interactions, thus ensuring a robust and representative evaluation of the hybrid model's performance. The metrics of precision, recall, and F1 score, along with the RMSE analysis for rating estimations, will form the basis of our evaluation, allowing us to measure the model's effectiveness in providing recommendations that are both accurate and relevant to users."
      ],
      "metadata": {
        "id": "ohPba7EMY56Q"
      }
    },
    {
      "cell_type": "markdown",
      "metadata": {
        "id": "rKgJpSA9vOOL"
      },
      "source": [
        "#### Model Based Collaborative Filtering - Matrix Factorization"
      ]
    },
    {
      "cell_type": "markdown",
      "metadata": {
        "id": "hJynidJCw-ti"
      },
      "source": [
        "Model-based Collaborative Filtering is a **personalized recommendation system**, the recommendations are based on the past behavior of the user and it is not dependent on any additional information. We use **latent features** to find recommendations for each user."
      ]
    },
    {
      "cell_type": "code",
      "execution_count": null,
      "metadata": {
        "id": "TA_7xe-nnhuu",
        "colab": {
          "base_uri": "https://localhost:8080/"
        },
        "outputId": "c5a5514f-1f78-46b2-861a-9a7a6cb7c4c3"
      },
      "outputs": [
        {
          "output_type": "stream",
          "name": "stdout",
          "text": [
            "RMSE: 1.0021\n",
            "Precision:  0.421\n",
            "Recall:  0.629\n",
            "F_1 score:  0.504\n"
          ]
        }
      ],
      "source": [
        "# Building the optimized SVD model using optimal hyperparameters\n",
        "svd_optimized = SVD(n_epochs = 30, lr_all = 0.01, reg_all = 0.1, random_state = 1)\n",
        "\n",
        "# Training the algorithm on the train set\n",
        "svd_optimized = svd_optimized.fit(trainset)\n",
        "\n",
        "# Let us compute precision@k, recall@k, and f_1 score\n",
        "precision_recall_at_k(svd_optimized)"
      ]
    },
    {
      "cell_type": "markdown",
      "metadata": {
        "id": "5U56oSNsR-F2"
      },
      "source": [
        "#### Content Based Recommendation Systems"
      ]
    },
    {
      "cell_type": "code",
      "execution_count": null,
      "metadata": {
        "id": "UX826CsjR-F3"
      },
      "outputs": [],
      "source": [
        "# Concatenate the \"title\", \"release\", \"artist_name\" columns to create a different column named \"text\"\n",
        "df_small = df_final_no_duplicates\n",
        "df_small['text'] = df_small['title'] + ' ' + df_small['release'] + ' ' + df_small['artist_name']"
      ]
    },
    {
      "cell_type": "code",
      "execution_count": null,
      "metadata": {
        "id": "WdXw4U-wR-F4",
        "colab": {
          "base_uri": "https://localhost:8080/",
          "height": 237
        },
        "outputId": "2ac50b96-9278-4488-b8ab-a545abb73700"
      },
      "outputs": [
        {
          "output_type": "execute_result",
          "data": {
            "text/plain": [
              "                                                                  user_id  \\\n",
              "title                                                                       \n",
              "Daisy And Prudence               17aa9f6dbdf753831da8f38c71b66b64373de613   \n",
              "The Ballad of Michael Valentine  17aa9f6dbdf753831da8f38c71b66b64373de613   \n",
              "I Stand Corrected (Album)        17aa9f6dbdf753831da8f38c71b66b64373de613   \n",
              "They Might Follow You            17aa9f6dbdf753831da8f38c71b66b64373de613   \n",
              "Monkey Man                       17aa9f6dbdf753831da8f38c71b66b64373de613   \n",
              "\n",
              "                                            song_id  play_count  \\\n",
              "title                                                             \n",
              "Daisy And Prudence               SOBDVAK12AC90759A2           1   \n",
              "The Ballad of Michael Valentine  SOBIMTY12A6D4F931F           1   \n",
              "I Stand Corrected (Album)        SOBKRVG12A8C133269           1   \n",
              "They Might Follow You            SOBUBLL12A58A795A8           1   \n",
              "Monkey Man                       SOBVKFF12A8C137A79           1   \n",
              "\n",
              "                                                                              text  \n",
              "title                                                                               \n",
              "Daisy And Prudence                    Daisy And Prudence Distillation Erin McKeown  \n",
              "The Ballad of Michael Valentine  The Ballad of Michael Valentine Sawdust The Ki...  \n",
              "I Stand Corrected (Album)        I Stand Corrected (Album) Vampire Weekend Vamp...  \n",
              "They Might Follow You                They Might Follow You Tiny Vipers Tiny Vipers  \n",
              "Monkey Man                           Monkey Man You Know I'm No Good Amy Winehouse  "
            ],
            "text/html": [
              "\n",
              "  <div id=\"df-b1c6a9e3-dd71-4a67-8bb5-3561e91928e9\" class=\"colab-df-container\">\n",
              "    <div>\n",
              "<style scoped>\n",
              "    .dataframe tbody tr th:only-of-type {\n",
              "        vertical-align: middle;\n",
              "    }\n",
              "\n",
              "    .dataframe tbody tr th {\n",
              "        vertical-align: top;\n",
              "    }\n",
              "\n",
              "    .dataframe thead th {\n",
              "        text-align: right;\n",
              "    }\n",
              "</style>\n",
              "<table border=\"1\" class=\"dataframe\">\n",
              "  <thead>\n",
              "    <tr style=\"text-align: right;\">\n",
              "      <th></th>\n",
              "      <th>user_id</th>\n",
              "      <th>song_id</th>\n",
              "      <th>play_count</th>\n",
              "      <th>text</th>\n",
              "    </tr>\n",
              "    <tr>\n",
              "      <th>title</th>\n",
              "      <th></th>\n",
              "      <th></th>\n",
              "      <th></th>\n",
              "      <th></th>\n",
              "    </tr>\n",
              "  </thead>\n",
              "  <tbody>\n",
              "    <tr>\n",
              "      <th>Daisy And Prudence</th>\n",
              "      <td>17aa9f6dbdf753831da8f38c71b66b64373de613</td>\n",
              "      <td>SOBDVAK12AC90759A2</td>\n",
              "      <td>1</td>\n",
              "      <td>Daisy And Prudence Distillation Erin McKeown</td>\n",
              "    </tr>\n",
              "    <tr>\n",
              "      <th>The Ballad of Michael Valentine</th>\n",
              "      <td>17aa9f6dbdf753831da8f38c71b66b64373de613</td>\n",
              "      <td>SOBIMTY12A6D4F931F</td>\n",
              "      <td>1</td>\n",
              "      <td>The Ballad of Michael Valentine Sawdust The Ki...</td>\n",
              "    </tr>\n",
              "    <tr>\n",
              "      <th>I Stand Corrected (Album)</th>\n",
              "      <td>17aa9f6dbdf753831da8f38c71b66b64373de613</td>\n",
              "      <td>SOBKRVG12A8C133269</td>\n",
              "      <td>1</td>\n",
              "      <td>I Stand Corrected (Album) Vampire Weekend Vamp...</td>\n",
              "    </tr>\n",
              "    <tr>\n",
              "      <th>They Might Follow You</th>\n",
              "      <td>17aa9f6dbdf753831da8f38c71b66b64373de613</td>\n",
              "      <td>SOBUBLL12A58A795A8</td>\n",
              "      <td>1</td>\n",
              "      <td>They Might Follow You Tiny Vipers Tiny Vipers</td>\n",
              "    </tr>\n",
              "    <tr>\n",
              "      <th>Monkey Man</th>\n",
              "      <td>17aa9f6dbdf753831da8f38c71b66b64373de613</td>\n",
              "      <td>SOBVKFF12A8C137A79</td>\n",
              "      <td>1</td>\n",
              "      <td>Monkey Man You Know I'm No Good Amy Winehouse</td>\n",
              "    </tr>\n",
              "  </tbody>\n",
              "</table>\n",
              "</div>\n",
              "    <div class=\"colab-df-buttons\">\n",
              "\n",
              "  <div class=\"colab-df-container\">\n",
              "    <button class=\"colab-df-convert\" onclick=\"convertToInteractive('df-b1c6a9e3-dd71-4a67-8bb5-3561e91928e9')\"\n",
              "            title=\"Convert this dataframe to an interactive table.\"\n",
              "            style=\"display:none;\">\n",
              "\n",
              "  <svg xmlns=\"http://www.w3.org/2000/svg\" height=\"24px\" viewBox=\"0 -960 960 960\">\n",
              "    <path d=\"M120-120v-720h720v720H120Zm60-500h600v-160H180v160Zm220 220h160v-160H400v160Zm0 220h160v-160H400v160ZM180-400h160v-160H180v160Zm440 0h160v-160H620v160ZM180-180h160v-160H180v160Zm440 0h160v-160H620v160Z\"/>\n",
              "  </svg>\n",
              "    </button>\n",
              "\n",
              "  <style>\n",
              "    .colab-df-container {\n",
              "      display:flex;\n",
              "      gap: 12px;\n",
              "    }\n",
              "\n",
              "    .colab-df-convert {\n",
              "      background-color: #E8F0FE;\n",
              "      border: none;\n",
              "      border-radius: 50%;\n",
              "      cursor: pointer;\n",
              "      display: none;\n",
              "      fill: #1967D2;\n",
              "      height: 32px;\n",
              "      padding: 0 0 0 0;\n",
              "      width: 32px;\n",
              "    }\n",
              "\n",
              "    .colab-df-convert:hover {\n",
              "      background-color: #E2EBFA;\n",
              "      box-shadow: 0px 1px 2px rgba(60, 64, 67, 0.3), 0px 1px 3px 1px rgba(60, 64, 67, 0.15);\n",
              "      fill: #174EA6;\n",
              "    }\n",
              "\n",
              "    .colab-df-buttons div {\n",
              "      margin-bottom: 4px;\n",
              "    }\n",
              "\n",
              "    [theme=dark] .colab-df-convert {\n",
              "      background-color: #3B4455;\n",
              "      fill: #D2E3FC;\n",
              "    }\n",
              "\n",
              "    [theme=dark] .colab-df-convert:hover {\n",
              "      background-color: #434B5C;\n",
              "      box-shadow: 0px 1px 3px 1px rgba(0, 0, 0, 0.15);\n",
              "      filter: drop-shadow(0px 1px 2px rgba(0, 0, 0, 0.3));\n",
              "      fill: #FFFFFF;\n",
              "    }\n",
              "  </style>\n",
              "\n",
              "    <script>\n",
              "      const buttonEl =\n",
              "        document.querySelector('#df-b1c6a9e3-dd71-4a67-8bb5-3561e91928e9 button.colab-df-convert');\n",
              "      buttonEl.style.display =\n",
              "        google.colab.kernel.accessAllowed ? 'block' : 'none';\n",
              "\n",
              "      async function convertToInteractive(key) {\n",
              "        const element = document.querySelector('#df-b1c6a9e3-dd71-4a67-8bb5-3561e91928e9');\n",
              "        const dataTable =\n",
              "          await google.colab.kernel.invokeFunction('convertToInteractive',\n",
              "                                                    [key], {});\n",
              "        if (!dataTable) return;\n",
              "\n",
              "        const docLinkHtml = 'Like what you see? Visit the ' +\n",
              "          '<a target=\"_blank\" href=https://colab.research.google.com/notebooks/data_table.ipynb>data table notebook</a>'\n",
              "          + ' to learn more about interactive tables.';\n",
              "        element.innerHTML = '';\n",
              "        dataTable['output_type'] = 'display_data';\n",
              "        await google.colab.output.renderOutput(dataTable, element);\n",
              "        const docLink = document.createElement('div');\n",
              "        docLink.innerHTML = docLinkHtml;\n",
              "        element.appendChild(docLink);\n",
              "      }\n",
              "    </script>\n",
              "  </div>\n",
              "\n",
              "\n",
              "<div id=\"df-7795ebae-3808-4f9f-a67b-3686438bfe5c\">\n",
              "  <button class=\"colab-df-quickchart\" onclick=\"quickchart('df-7795ebae-3808-4f9f-a67b-3686438bfe5c')\"\n",
              "            title=\"Suggest charts\"\n",
              "            style=\"display:none;\">\n",
              "\n",
              "<svg xmlns=\"http://www.w3.org/2000/svg\" height=\"24px\"viewBox=\"0 0 24 24\"\n",
              "     width=\"24px\">\n",
              "    <g>\n",
              "        <path d=\"M19 3H5c-1.1 0-2 .9-2 2v14c0 1.1.9 2 2 2h14c1.1 0 2-.9 2-2V5c0-1.1-.9-2-2-2zM9 17H7v-7h2v7zm4 0h-2V7h2v10zm4 0h-2v-4h2v4z\"/>\n",
              "    </g>\n",
              "</svg>\n",
              "  </button>\n",
              "\n",
              "<style>\n",
              "  .colab-df-quickchart {\n",
              "      --bg-color: #E8F0FE;\n",
              "      --fill-color: #1967D2;\n",
              "      --hover-bg-color: #E2EBFA;\n",
              "      --hover-fill-color: #174EA6;\n",
              "      --disabled-fill-color: #AAA;\n",
              "      --disabled-bg-color: #DDD;\n",
              "  }\n",
              "\n",
              "  [theme=dark] .colab-df-quickchart {\n",
              "      --bg-color: #3B4455;\n",
              "      --fill-color: #D2E3FC;\n",
              "      --hover-bg-color: #434B5C;\n",
              "      --hover-fill-color: #FFFFFF;\n",
              "      --disabled-bg-color: #3B4455;\n",
              "      --disabled-fill-color: #666;\n",
              "  }\n",
              "\n",
              "  .colab-df-quickchart {\n",
              "    background-color: var(--bg-color);\n",
              "    border: none;\n",
              "    border-radius: 50%;\n",
              "    cursor: pointer;\n",
              "    display: none;\n",
              "    fill: var(--fill-color);\n",
              "    height: 32px;\n",
              "    padding: 0;\n",
              "    width: 32px;\n",
              "  }\n",
              "\n",
              "  .colab-df-quickchart:hover {\n",
              "    background-color: var(--hover-bg-color);\n",
              "    box-shadow: 0 1px 2px rgba(60, 64, 67, 0.3), 0 1px 3px 1px rgba(60, 64, 67, 0.15);\n",
              "    fill: var(--button-hover-fill-color);\n",
              "  }\n",
              "\n",
              "  .colab-df-quickchart-complete:disabled,\n",
              "  .colab-df-quickchart-complete:disabled:hover {\n",
              "    background-color: var(--disabled-bg-color);\n",
              "    fill: var(--disabled-fill-color);\n",
              "    box-shadow: none;\n",
              "  }\n",
              "\n",
              "  .colab-df-spinner {\n",
              "    border: 2px solid var(--fill-color);\n",
              "    border-color: transparent;\n",
              "    border-bottom-color: var(--fill-color);\n",
              "    animation:\n",
              "      spin 1s steps(1) infinite;\n",
              "  }\n",
              "\n",
              "  @keyframes spin {\n",
              "    0% {\n",
              "      border-color: transparent;\n",
              "      border-bottom-color: var(--fill-color);\n",
              "      border-left-color: var(--fill-color);\n",
              "    }\n",
              "    20% {\n",
              "      border-color: transparent;\n",
              "      border-left-color: var(--fill-color);\n",
              "      border-top-color: var(--fill-color);\n",
              "    }\n",
              "    30% {\n",
              "      border-color: transparent;\n",
              "      border-left-color: var(--fill-color);\n",
              "      border-top-color: var(--fill-color);\n",
              "      border-right-color: var(--fill-color);\n",
              "    }\n",
              "    40% {\n",
              "      border-color: transparent;\n",
              "      border-right-color: var(--fill-color);\n",
              "      border-top-color: var(--fill-color);\n",
              "    }\n",
              "    60% {\n",
              "      border-color: transparent;\n",
              "      border-right-color: var(--fill-color);\n",
              "    }\n",
              "    80% {\n",
              "      border-color: transparent;\n",
              "      border-right-color: var(--fill-color);\n",
              "      border-bottom-color: var(--fill-color);\n",
              "    }\n",
              "    90% {\n",
              "      border-color: transparent;\n",
              "      border-bottom-color: var(--fill-color);\n",
              "    }\n",
              "  }\n",
              "</style>\n",
              "\n",
              "  <script>\n",
              "    async function quickchart(key) {\n",
              "      const quickchartButtonEl =\n",
              "        document.querySelector('#' + key + ' button');\n",
              "      quickchartButtonEl.disabled = true;  // To prevent multiple clicks.\n",
              "      quickchartButtonEl.classList.add('colab-df-spinner');\n",
              "      try {\n",
              "        const charts = await google.colab.kernel.invokeFunction(\n",
              "            'suggestCharts', [key], {});\n",
              "      } catch (error) {\n",
              "        console.error('Error during call to suggestCharts:', error);\n",
              "      }\n",
              "      quickchartButtonEl.classList.remove('colab-df-spinner');\n",
              "      quickchartButtonEl.classList.add('colab-df-quickchart-complete');\n",
              "    }\n",
              "    (() => {\n",
              "      let quickchartButtonEl =\n",
              "        document.querySelector('#df-7795ebae-3808-4f9f-a67b-3686438bfe5c button');\n",
              "      quickchartButtonEl.style.display =\n",
              "        google.colab.kernel.accessAllowed ? 'block' : 'none';\n",
              "    })();\n",
              "  </script>\n",
              "</div>\n",
              "    </div>\n",
              "  </div>\n"
            ],
            "application/vnd.google.colaboratory.intrinsic+json": {
              "type": "dataframe",
              "variable_name": "df_small",
              "summary": "{\n  \"name\": \"df_small\",\n  \"rows\": 629,\n  \"fields\": [\n    {\n      \"column\": \"user_id\",\n      \"properties\": {\n        \"dtype\": \"category\",\n        \"num_unique_values\": 80,\n        \"samples\": [\n          \"cc62e608a1a21353e1673817973235cde4116bad\",\n          \"17aa9f6dbdf753831da8f38c71b66b64373de613\",\n          \"b12c786deef0e618b5f277bc337f67128f425efe\"\n        ],\n        \"semantic_type\": \"\",\n        \"description\": \"\"\n      }\n    },\n    {\n      \"column\": \"song_id\",\n      \"properties\": {\n        \"dtype\": \"string\",\n        \"num_unique_values\": 618,\n        \"samples\": [\n          \"SODWVWI12A81C21791\",\n          \"SOBHNKR12AB0186218\",\n          \"SOPJULC12A6D4F667F\"\n        ],\n        \"semantic_type\": \"\",\n        \"description\": \"\"\n      }\n    },\n    {\n      \"column\": \"play_count\",\n      \"properties\": {\n        \"dtype\": \"number\",\n        \"std\": 1,\n        \"min\": 1,\n        \"max\": 5,\n        \"num_unique_values\": 5,\n        \"samples\": [\n          5,\n          4,\n          2\n        ],\n        \"semantic_type\": \"\",\n        \"description\": \"\"\n      }\n    },\n    {\n      \"column\": \"text\",\n      \"properties\": {\n        \"dtype\": \"string\",\n        \"num_unique_values\": 629,\n        \"samples\": [\n          \"Mykonos Sun Giant Fleet Foxes\",\n          \"I'm On A Boat Incredibad The Lonely Island / T-Pain\",\n          \"Never Gonna Happen It's Not Me_ It's You (Special Edition) Lily Allen\"\n        ],\n        \"semantic_type\": \"\",\n        \"description\": \"\"\n      }\n    }\n  ]\n}"
            }
          },
          "metadata": {},
          "execution_count": 22
        }
      ],
      "source": [
        "# Select the columns 'user_id', 'song_id', 'play_count', 'title', 'text' from df_small data\n",
        "df_small = df_small[['user_id', 'song_id', 'play_count', 'title', 'text']]\n",
        "# Drop the duplicates from the title column\n",
        "df_small = df_small.drop_duplicates(subset = ['title'])\n",
        "# Set the title column as the index\n",
        "df_small = df_small.set_index('title')\n",
        "# See the first 5 records of the df_small dataset\n",
        "df_small.head()"
      ]
    },
    {
      "cell_type": "code",
      "execution_count": null,
      "metadata": {
        "id": "qDcYHwZTR-F5",
        "colab": {
          "base_uri": "https://localhost:8080/"
        },
        "outputId": "7781bfc4-8694-4142-93c6-112aa49db2c4"
      },
      "outputs": [
        {
          "output_type": "execute_result",
          "data": {
            "text/plain": [
              "0                   Daisy And Prudence\n",
              "1      The Ballad of Michael Valentine\n",
              "2            I Stand Corrected (Album)\n",
              "3                They Might Follow You\n",
              "4                           Monkey Man\n",
              "                    ...               \n",
              "624                      The Last Song\n",
              "625                         Invincible\n",
              "626                      Paper Gangsta\n",
              "627                          Starlight\n",
              "628         Tangerine  (Album Version)\n",
              "Name: title, Length: 629, dtype: object"
            ]
          },
          "metadata": {},
          "execution_count": 23
        }
      ],
      "source": [
        "# Create the series of indices from the data\n",
        "title_series = pd.Series(df_small.index)\n",
        "title_series"
      ]
    },
    {
      "cell_type": "code",
      "execution_count": null,
      "metadata": {
        "id": "9UINF3Nwvwfr",
        "colab": {
          "base_uri": "https://localhost:8080/"
        },
        "outputId": "1095c0a9-c906-46d7-d996-9e8cd76c309f"
      },
      "outputs": [
        {
          "output_type": "stream",
          "name": "stderr",
          "text": [
            "[nltk_data] Downloading package punkt to /root/nltk_data...\n",
            "[nltk_data]   Package punkt is already up-to-date!\n",
            "[nltk_data] Downloading package stopwords to /root/nltk_data...\n",
            "[nltk_data]   Package stopwords is already up-to-date!\n",
            "[nltk_data] Downloading package wordnet to /root/nltk_data...\n",
            "[nltk_data]   Package wordnet is already up-to-date!\n"
          ]
        }
      ],
      "source": [
        "# Importing necessary packages to work with text data\n",
        "import nltk\n",
        "\n",
        "# Download punkt library\n",
        "nltk.download('punkt')\n",
        "\n",
        "# Download stopwords library\n",
        "nltk.download('stopwords')\n",
        "\n",
        "# Download wordnet\n",
        "nltk.download('wordnet')\n",
        "\n",
        "# Import regular expression\n",
        "import re\n",
        "\n",
        "# Import word_tokenizer\n",
        "from nltk import word_tokenize\n",
        "\n",
        "# Import WordNetLemmatizer\n",
        "from nltk.stem import WordNetLemmatizer\n",
        "\n",
        "# Import stopwords\n",
        "from nltk.corpus import stopwords\n",
        "\n",
        "# Import CountVectorizer and TfidfVectorizer\n",
        "from sklearn.feature_extraction.text import TfidfVectorizer"
      ]
    },
    {
      "cell_type": "markdown",
      "metadata": {
        "id": "Jt2vitlnhoEg"
      },
      "source": [
        "We will create a **function to pre-process the text data:**"
      ]
    },
    {
      "cell_type": "code",
      "execution_count": null,
      "metadata": {
        "id": "j5QSSeUvR-F6"
      },
      "outputs": [],
      "source": [
        "# Create a function to tokenize the text\n",
        "def tokenize(text):\n",
        "\n",
        "    # Making each letter as lowercase and removing non-alphabetical text\n",
        "    text = re.sub(r\"[^a-zA-Z]\",\" \", text.lower())\n",
        "\n",
        "    # Extracting each word in the text\n",
        "    tokens = word_tokenize(text)\n",
        "\n",
        "    # Removing stopwords\n",
        "    words = [word for word in tokens if word not in stopwords.words(\"english\")]\n",
        "\n",
        "    # Lemmatize the words\n",
        "    text_lems = [WordNetLemmatizer().lemmatize(lem).strip() for lem in words]\n",
        "\n",
        "    return text_lems"
      ]
    },
    {
      "cell_type": "code",
      "execution_count": null,
      "metadata": {
        "id": "RI_onIGdR-F6",
        "colab": {
          "base_uri": "https://localhost:8080/",
          "height": 423
        },
        "outputId": "ede2fbcd-374d-4eb4-ffa4-f5aa331bad4e"
      },
      "outputs": [
        {
          "output_type": "execute_result",
          "data": {
            "text/plain": [
              "     0     1     2     3     4     5     6     7     8     9     ...  1511  \\\n",
              "0     0.0   0.0   0.0   0.0   0.0   0.0   0.0   0.0   0.0   0.0  ...   0.0   \n",
              "1     0.0   0.0   0.0   0.0   0.0   0.0   0.0   0.0   0.0   0.0  ...   0.0   \n",
              "2     0.0   0.0   0.0   0.0   0.0   0.0   0.0   0.0   0.0   0.0  ...   0.0   \n",
              "3     0.0   0.0   0.0   0.0   0.0   0.0   0.0   0.0   0.0   0.0  ...   0.0   \n",
              "4     0.0   0.0   0.0   0.0   0.0   0.0   0.0   0.0   0.0   0.0  ...   0.0   \n",
              "..    ...   ...   ...   ...   ...   ...   ...   ...   ...   ...  ...   ...   \n",
              "624   0.0   0.0   0.0   0.0   0.0   0.0   0.0   0.0   0.0   0.0  ...   0.0   \n",
              "625   0.0   0.0   0.0   0.0   0.0   0.0   0.0   0.0   0.0   0.0  ...   0.0   \n",
              "626   0.0   0.0   0.0   0.0   0.0   0.0   0.0   0.0   0.0   0.0  ...   0.0   \n",
              "627   0.0   0.0   0.0   0.0   0.0   0.0   0.0   0.0   0.0   0.0  ...   0.0   \n",
              "628   0.0   0.0   0.0   0.0   0.0   0.0   0.0   0.0   0.0   0.0  ...   0.0   \n",
              "\n",
              "     1512  1513  1514  1515  1516  1517  1518      1519  1520  \n",
              "0     0.0   0.0   0.0   0.0   0.0   0.0   0.0  0.000000   0.0  \n",
              "1     0.0   0.0   0.0   0.0   0.0   0.0   0.0  0.000000   0.0  \n",
              "2     0.0   0.0   0.0   0.0   0.0   0.0   0.0  0.000000   0.0  \n",
              "3     0.0   0.0   0.0   0.0   0.0   0.0   0.0  0.000000   0.0  \n",
              "4     0.0   0.0   0.0   0.0   0.0   0.0   0.0  0.000000   0.0  \n",
              "..    ...   ...   ...   ...   ...   ...   ...       ...   ...  \n",
              "624   0.0   0.0   0.0   0.0   0.0   0.0   0.0  0.000000   0.0  \n",
              "625   0.0   0.0   0.0   0.0   0.0   0.0   0.0  0.000000   0.0  \n",
              "626   0.0   0.0   0.0   0.0   0.0   0.0   0.0  0.000000   0.0  \n",
              "627   0.0   0.0   0.0   0.0   0.0   0.0   0.0  0.000000   0.0  \n",
              "628   0.0   0.0   0.0   0.0   0.0   0.0   0.0  0.618716   0.0  \n",
              "\n",
              "[629 rows x 1521 columns]"
            ],
            "text/html": [
              "\n",
              "  <div id=\"df-7fe5c9d0-e794-4161-8c80-415cfb573135\" class=\"colab-df-container\">\n",
              "    <div>\n",
              "<style scoped>\n",
              "    .dataframe tbody tr th:only-of-type {\n",
              "        vertical-align: middle;\n",
              "    }\n",
              "\n",
              "    .dataframe tbody tr th {\n",
              "        vertical-align: top;\n",
              "    }\n",
              "\n",
              "    .dataframe thead th {\n",
              "        text-align: right;\n",
              "    }\n",
              "</style>\n",
              "<table border=\"1\" class=\"dataframe\">\n",
              "  <thead>\n",
              "    <tr style=\"text-align: right;\">\n",
              "      <th></th>\n",
              "      <th>0</th>\n",
              "      <th>1</th>\n",
              "      <th>2</th>\n",
              "      <th>3</th>\n",
              "      <th>4</th>\n",
              "      <th>5</th>\n",
              "      <th>6</th>\n",
              "      <th>7</th>\n",
              "      <th>8</th>\n",
              "      <th>9</th>\n",
              "      <th>...</th>\n",
              "      <th>1511</th>\n",
              "      <th>1512</th>\n",
              "      <th>1513</th>\n",
              "      <th>1514</th>\n",
              "      <th>1515</th>\n",
              "      <th>1516</th>\n",
              "      <th>1517</th>\n",
              "      <th>1518</th>\n",
              "      <th>1519</th>\n",
              "      <th>1520</th>\n",
              "    </tr>\n",
              "  </thead>\n",
              "  <tbody>\n",
              "    <tr>\n",
              "      <th>0</th>\n",
              "      <td>0.0</td>\n",
              "      <td>0.0</td>\n",
              "      <td>0.0</td>\n",
              "      <td>0.0</td>\n",
              "      <td>0.0</td>\n",
              "      <td>0.0</td>\n",
              "      <td>0.0</td>\n",
              "      <td>0.0</td>\n",
              "      <td>0.0</td>\n",
              "      <td>0.0</td>\n",
              "      <td>...</td>\n",
              "      <td>0.0</td>\n",
              "      <td>0.0</td>\n",
              "      <td>0.0</td>\n",
              "      <td>0.0</td>\n",
              "      <td>0.0</td>\n",
              "      <td>0.0</td>\n",
              "      <td>0.0</td>\n",
              "      <td>0.0</td>\n",
              "      <td>0.000000</td>\n",
              "      <td>0.0</td>\n",
              "    </tr>\n",
              "    <tr>\n",
              "      <th>1</th>\n",
              "      <td>0.0</td>\n",
              "      <td>0.0</td>\n",
              "      <td>0.0</td>\n",
              "      <td>0.0</td>\n",
              "      <td>0.0</td>\n",
              "      <td>0.0</td>\n",
              "      <td>0.0</td>\n",
              "      <td>0.0</td>\n",
              "      <td>0.0</td>\n",
              "      <td>0.0</td>\n",
              "      <td>...</td>\n",
              "      <td>0.0</td>\n",
              "      <td>0.0</td>\n",
              "      <td>0.0</td>\n",
              "      <td>0.0</td>\n",
              "      <td>0.0</td>\n",
              "      <td>0.0</td>\n",
              "      <td>0.0</td>\n",
              "      <td>0.0</td>\n",
              "      <td>0.000000</td>\n",
              "      <td>0.0</td>\n",
              "    </tr>\n",
              "    <tr>\n",
              "      <th>2</th>\n",
              "      <td>0.0</td>\n",
              "      <td>0.0</td>\n",
              "      <td>0.0</td>\n",
              "      <td>0.0</td>\n",
              "      <td>0.0</td>\n",
              "      <td>0.0</td>\n",
              "      <td>0.0</td>\n",
              "      <td>0.0</td>\n",
              "      <td>0.0</td>\n",
              "      <td>0.0</td>\n",
              "      <td>...</td>\n",
              "      <td>0.0</td>\n",
              "      <td>0.0</td>\n",
              "      <td>0.0</td>\n",
              "      <td>0.0</td>\n",
              "      <td>0.0</td>\n",
              "      <td>0.0</td>\n",
              "      <td>0.0</td>\n",
              "      <td>0.0</td>\n",
              "      <td>0.000000</td>\n",
              "      <td>0.0</td>\n",
              "    </tr>\n",
              "    <tr>\n",
              "      <th>3</th>\n",
              "      <td>0.0</td>\n",
              "      <td>0.0</td>\n",
              "      <td>0.0</td>\n",
              "      <td>0.0</td>\n",
              "      <td>0.0</td>\n",
              "      <td>0.0</td>\n",
              "      <td>0.0</td>\n",
              "      <td>0.0</td>\n",
              "      <td>0.0</td>\n",
              "      <td>0.0</td>\n",
              "      <td>...</td>\n",
              "      <td>0.0</td>\n",
              "      <td>0.0</td>\n",
              "      <td>0.0</td>\n",
              "      <td>0.0</td>\n",
              "      <td>0.0</td>\n",
              "      <td>0.0</td>\n",
              "      <td>0.0</td>\n",
              "      <td>0.0</td>\n",
              "      <td>0.000000</td>\n",
              "      <td>0.0</td>\n",
              "    </tr>\n",
              "    <tr>\n",
              "      <th>4</th>\n",
              "      <td>0.0</td>\n",
              "      <td>0.0</td>\n",
              "      <td>0.0</td>\n",
              "      <td>0.0</td>\n",
              "      <td>0.0</td>\n",
              "      <td>0.0</td>\n",
              "      <td>0.0</td>\n",
              "      <td>0.0</td>\n",
              "      <td>0.0</td>\n",
              "      <td>0.0</td>\n",
              "      <td>...</td>\n",
              "      <td>0.0</td>\n",
              "      <td>0.0</td>\n",
              "      <td>0.0</td>\n",
              "      <td>0.0</td>\n",
              "      <td>0.0</td>\n",
              "      <td>0.0</td>\n",
              "      <td>0.0</td>\n",
              "      <td>0.0</td>\n",
              "      <td>0.000000</td>\n",
              "      <td>0.0</td>\n",
              "    </tr>\n",
              "    <tr>\n",
              "      <th>...</th>\n",
              "      <td>...</td>\n",
              "      <td>...</td>\n",
              "      <td>...</td>\n",
              "      <td>...</td>\n",
              "      <td>...</td>\n",
              "      <td>...</td>\n",
              "      <td>...</td>\n",
              "      <td>...</td>\n",
              "      <td>...</td>\n",
              "      <td>...</td>\n",
              "      <td>...</td>\n",
              "      <td>...</td>\n",
              "      <td>...</td>\n",
              "      <td>...</td>\n",
              "      <td>...</td>\n",
              "      <td>...</td>\n",
              "      <td>...</td>\n",
              "      <td>...</td>\n",
              "      <td>...</td>\n",
              "      <td>...</td>\n",
              "      <td>...</td>\n",
              "    </tr>\n",
              "    <tr>\n",
              "      <th>624</th>\n",
              "      <td>0.0</td>\n",
              "      <td>0.0</td>\n",
              "      <td>0.0</td>\n",
              "      <td>0.0</td>\n",
              "      <td>0.0</td>\n",
              "      <td>0.0</td>\n",
              "      <td>0.0</td>\n",
              "      <td>0.0</td>\n",
              "      <td>0.0</td>\n",
              "      <td>0.0</td>\n",
              "      <td>...</td>\n",
              "      <td>0.0</td>\n",
              "      <td>0.0</td>\n",
              "      <td>0.0</td>\n",
              "      <td>0.0</td>\n",
              "      <td>0.0</td>\n",
              "      <td>0.0</td>\n",
              "      <td>0.0</td>\n",
              "      <td>0.0</td>\n",
              "      <td>0.000000</td>\n",
              "      <td>0.0</td>\n",
              "    </tr>\n",
              "    <tr>\n",
              "      <th>625</th>\n",
              "      <td>0.0</td>\n",
              "      <td>0.0</td>\n",
              "      <td>0.0</td>\n",
              "      <td>0.0</td>\n",
              "      <td>0.0</td>\n",
              "      <td>0.0</td>\n",
              "      <td>0.0</td>\n",
              "      <td>0.0</td>\n",
              "      <td>0.0</td>\n",
              "      <td>0.0</td>\n",
              "      <td>...</td>\n",
              "      <td>0.0</td>\n",
              "      <td>0.0</td>\n",
              "      <td>0.0</td>\n",
              "      <td>0.0</td>\n",
              "      <td>0.0</td>\n",
              "      <td>0.0</td>\n",
              "      <td>0.0</td>\n",
              "      <td>0.0</td>\n",
              "      <td>0.000000</td>\n",
              "      <td>0.0</td>\n",
              "    </tr>\n",
              "    <tr>\n",
              "      <th>626</th>\n",
              "      <td>0.0</td>\n",
              "      <td>0.0</td>\n",
              "      <td>0.0</td>\n",
              "      <td>0.0</td>\n",
              "      <td>0.0</td>\n",
              "      <td>0.0</td>\n",
              "      <td>0.0</td>\n",
              "      <td>0.0</td>\n",
              "      <td>0.0</td>\n",
              "      <td>0.0</td>\n",
              "      <td>...</td>\n",
              "      <td>0.0</td>\n",
              "      <td>0.0</td>\n",
              "      <td>0.0</td>\n",
              "      <td>0.0</td>\n",
              "      <td>0.0</td>\n",
              "      <td>0.0</td>\n",
              "      <td>0.0</td>\n",
              "      <td>0.0</td>\n",
              "      <td>0.000000</td>\n",
              "      <td>0.0</td>\n",
              "    </tr>\n",
              "    <tr>\n",
              "      <th>627</th>\n",
              "      <td>0.0</td>\n",
              "      <td>0.0</td>\n",
              "      <td>0.0</td>\n",
              "      <td>0.0</td>\n",
              "      <td>0.0</td>\n",
              "      <td>0.0</td>\n",
              "      <td>0.0</td>\n",
              "      <td>0.0</td>\n",
              "      <td>0.0</td>\n",
              "      <td>0.0</td>\n",
              "      <td>...</td>\n",
              "      <td>0.0</td>\n",
              "      <td>0.0</td>\n",
              "      <td>0.0</td>\n",
              "      <td>0.0</td>\n",
              "      <td>0.0</td>\n",
              "      <td>0.0</td>\n",
              "      <td>0.0</td>\n",
              "      <td>0.0</td>\n",
              "      <td>0.000000</td>\n",
              "      <td>0.0</td>\n",
              "    </tr>\n",
              "    <tr>\n",
              "      <th>628</th>\n",
              "      <td>0.0</td>\n",
              "      <td>0.0</td>\n",
              "      <td>0.0</td>\n",
              "      <td>0.0</td>\n",
              "      <td>0.0</td>\n",
              "      <td>0.0</td>\n",
              "      <td>0.0</td>\n",
              "      <td>0.0</td>\n",
              "      <td>0.0</td>\n",
              "      <td>0.0</td>\n",
              "      <td>...</td>\n",
              "      <td>0.0</td>\n",
              "      <td>0.0</td>\n",
              "      <td>0.0</td>\n",
              "      <td>0.0</td>\n",
              "      <td>0.0</td>\n",
              "      <td>0.0</td>\n",
              "      <td>0.0</td>\n",
              "      <td>0.0</td>\n",
              "      <td>0.618716</td>\n",
              "      <td>0.0</td>\n",
              "    </tr>\n",
              "  </tbody>\n",
              "</table>\n",
              "<p>629 rows × 1521 columns</p>\n",
              "</div>\n",
              "    <div class=\"colab-df-buttons\">\n",
              "\n",
              "  <div class=\"colab-df-container\">\n",
              "    <button class=\"colab-df-convert\" onclick=\"convertToInteractive('df-7fe5c9d0-e794-4161-8c80-415cfb573135')\"\n",
              "            title=\"Convert this dataframe to an interactive table.\"\n",
              "            style=\"display:none;\">\n",
              "\n",
              "  <svg xmlns=\"http://www.w3.org/2000/svg\" height=\"24px\" viewBox=\"0 -960 960 960\">\n",
              "    <path d=\"M120-120v-720h720v720H120Zm60-500h600v-160H180v160Zm220 220h160v-160H400v160Zm0 220h160v-160H400v160ZM180-400h160v-160H180v160Zm440 0h160v-160H620v160ZM180-180h160v-160H180v160Zm440 0h160v-160H620v160Z\"/>\n",
              "  </svg>\n",
              "    </button>\n",
              "\n",
              "  <style>\n",
              "    .colab-df-container {\n",
              "      display:flex;\n",
              "      gap: 12px;\n",
              "    }\n",
              "\n",
              "    .colab-df-convert {\n",
              "      background-color: #E8F0FE;\n",
              "      border: none;\n",
              "      border-radius: 50%;\n",
              "      cursor: pointer;\n",
              "      display: none;\n",
              "      fill: #1967D2;\n",
              "      height: 32px;\n",
              "      padding: 0 0 0 0;\n",
              "      width: 32px;\n",
              "    }\n",
              "\n",
              "    .colab-df-convert:hover {\n",
              "      background-color: #E2EBFA;\n",
              "      box-shadow: 0px 1px 2px rgba(60, 64, 67, 0.3), 0px 1px 3px 1px rgba(60, 64, 67, 0.15);\n",
              "      fill: #174EA6;\n",
              "    }\n",
              "\n",
              "    .colab-df-buttons div {\n",
              "      margin-bottom: 4px;\n",
              "    }\n",
              "\n",
              "    [theme=dark] .colab-df-convert {\n",
              "      background-color: #3B4455;\n",
              "      fill: #D2E3FC;\n",
              "    }\n",
              "\n",
              "    [theme=dark] .colab-df-convert:hover {\n",
              "      background-color: #434B5C;\n",
              "      box-shadow: 0px 1px 3px 1px rgba(0, 0, 0, 0.15);\n",
              "      filter: drop-shadow(0px 1px 2px rgba(0, 0, 0, 0.3));\n",
              "      fill: #FFFFFF;\n",
              "    }\n",
              "  </style>\n",
              "\n",
              "    <script>\n",
              "      const buttonEl =\n",
              "        document.querySelector('#df-7fe5c9d0-e794-4161-8c80-415cfb573135 button.colab-df-convert');\n",
              "      buttonEl.style.display =\n",
              "        google.colab.kernel.accessAllowed ? 'block' : 'none';\n",
              "\n",
              "      async function convertToInteractive(key) {\n",
              "        const element = document.querySelector('#df-7fe5c9d0-e794-4161-8c80-415cfb573135');\n",
              "        const dataTable =\n",
              "          await google.colab.kernel.invokeFunction('convertToInteractive',\n",
              "                                                    [key], {});\n",
              "        if (!dataTable) return;\n",
              "\n",
              "        const docLinkHtml = 'Like what you see? Visit the ' +\n",
              "          '<a target=\"_blank\" href=https://colab.research.google.com/notebooks/data_table.ipynb>data table notebook</a>'\n",
              "          + ' to learn more about interactive tables.';\n",
              "        element.innerHTML = '';\n",
              "        dataTable['output_type'] = 'display_data';\n",
              "        await google.colab.output.renderOutput(dataTable, element);\n",
              "        const docLink = document.createElement('div');\n",
              "        docLink.innerHTML = docLinkHtml;\n",
              "        element.appendChild(docLink);\n",
              "      }\n",
              "    </script>\n",
              "  </div>\n",
              "\n",
              "\n",
              "<div id=\"df-e20e466d-e16f-4a17-8b3b-1a75ea8c3cac\">\n",
              "  <button class=\"colab-df-quickchart\" onclick=\"quickchart('df-e20e466d-e16f-4a17-8b3b-1a75ea8c3cac')\"\n",
              "            title=\"Suggest charts\"\n",
              "            style=\"display:none;\">\n",
              "\n",
              "<svg xmlns=\"http://www.w3.org/2000/svg\" height=\"24px\"viewBox=\"0 0 24 24\"\n",
              "     width=\"24px\">\n",
              "    <g>\n",
              "        <path d=\"M19 3H5c-1.1 0-2 .9-2 2v14c0 1.1.9 2 2 2h14c1.1 0 2-.9 2-2V5c0-1.1-.9-2-2-2zM9 17H7v-7h2v7zm4 0h-2V7h2v10zm4 0h-2v-4h2v4z\"/>\n",
              "    </g>\n",
              "</svg>\n",
              "  </button>\n",
              "\n",
              "<style>\n",
              "  .colab-df-quickchart {\n",
              "      --bg-color: #E8F0FE;\n",
              "      --fill-color: #1967D2;\n",
              "      --hover-bg-color: #E2EBFA;\n",
              "      --hover-fill-color: #174EA6;\n",
              "      --disabled-fill-color: #AAA;\n",
              "      --disabled-bg-color: #DDD;\n",
              "  }\n",
              "\n",
              "  [theme=dark] .colab-df-quickchart {\n",
              "      --bg-color: #3B4455;\n",
              "      --fill-color: #D2E3FC;\n",
              "      --hover-bg-color: #434B5C;\n",
              "      --hover-fill-color: #FFFFFF;\n",
              "      --disabled-bg-color: #3B4455;\n",
              "      --disabled-fill-color: #666;\n",
              "  }\n",
              "\n",
              "  .colab-df-quickchart {\n",
              "    background-color: var(--bg-color);\n",
              "    border: none;\n",
              "    border-radius: 50%;\n",
              "    cursor: pointer;\n",
              "    display: none;\n",
              "    fill: var(--fill-color);\n",
              "    height: 32px;\n",
              "    padding: 0;\n",
              "    width: 32px;\n",
              "  }\n",
              "\n",
              "  .colab-df-quickchart:hover {\n",
              "    background-color: var(--hover-bg-color);\n",
              "    box-shadow: 0 1px 2px rgba(60, 64, 67, 0.3), 0 1px 3px 1px rgba(60, 64, 67, 0.15);\n",
              "    fill: var(--button-hover-fill-color);\n",
              "  }\n",
              "\n",
              "  .colab-df-quickchart-complete:disabled,\n",
              "  .colab-df-quickchart-complete:disabled:hover {\n",
              "    background-color: var(--disabled-bg-color);\n",
              "    fill: var(--disabled-fill-color);\n",
              "    box-shadow: none;\n",
              "  }\n",
              "\n",
              "  .colab-df-spinner {\n",
              "    border: 2px solid var(--fill-color);\n",
              "    border-color: transparent;\n",
              "    border-bottom-color: var(--fill-color);\n",
              "    animation:\n",
              "      spin 1s steps(1) infinite;\n",
              "  }\n",
              "\n",
              "  @keyframes spin {\n",
              "    0% {\n",
              "      border-color: transparent;\n",
              "      border-bottom-color: var(--fill-color);\n",
              "      border-left-color: var(--fill-color);\n",
              "    }\n",
              "    20% {\n",
              "      border-color: transparent;\n",
              "      border-left-color: var(--fill-color);\n",
              "      border-top-color: var(--fill-color);\n",
              "    }\n",
              "    30% {\n",
              "      border-color: transparent;\n",
              "      border-left-color: var(--fill-color);\n",
              "      border-top-color: var(--fill-color);\n",
              "      border-right-color: var(--fill-color);\n",
              "    }\n",
              "    40% {\n",
              "      border-color: transparent;\n",
              "      border-right-color: var(--fill-color);\n",
              "      border-top-color: var(--fill-color);\n",
              "    }\n",
              "    60% {\n",
              "      border-color: transparent;\n",
              "      border-right-color: var(--fill-color);\n",
              "    }\n",
              "    80% {\n",
              "      border-color: transparent;\n",
              "      border-right-color: var(--fill-color);\n",
              "      border-bottom-color: var(--fill-color);\n",
              "    }\n",
              "    90% {\n",
              "      border-color: transparent;\n",
              "      border-bottom-color: var(--fill-color);\n",
              "    }\n",
              "  }\n",
              "</style>\n",
              "\n",
              "  <script>\n",
              "    async function quickchart(key) {\n",
              "      const quickchartButtonEl =\n",
              "        document.querySelector('#' + key + ' button');\n",
              "      quickchartButtonEl.disabled = true;  // To prevent multiple clicks.\n",
              "      quickchartButtonEl.classList.add('colab-df-spinner');\n",
              "      try {\n",
              "        const charts = await google.colab.kernel.invokeFunction(\n",
              "            'suggestCharts', [key], {});\n",
              "      } catch (error) {\n",
              "        console.error('Error during call to suggestCharts:', error);\n",
              "      }\n",
              "      quickchartButtonEl.classList.remove('colab-df-spinner');\n",
              "      quickchartButtonEl.classList.add('colab-df-quickchart-complete');\n",
              "    }\n",
              "    (() => {\n",
              "      let quickchartButtonEl =\n",
              "        document.querySelector('#df-e20e466d-e16f-4a17-8b3b-1a75ea8c3cac button');\n",
              "      quickchartButtonEl.style.display =\n",
              "        google.colab.kernel.accessAllowed ? 'block' : 'none';\n",
              "    })();\n",
              "  </script>\n",
              "</div>\n",
              "    </div>\n",
              "  </div>\n"
            ],
            "application/vnd.google.colaboratory.intrinsic+json": {
              "type": "dataframe"
            }
          },
          "metadata": {},
          "execution_count": 26
        }
      ],
      "source": [
        "# Create tfidf vectorizer\n",
        "tfidf = TfidfVectorizer(tokenizer = tokenize)\n",
        "\n",
        "# Fit_transfrom the above vectorizer on the text column and then convert the output into an array\n",
        "song_tfidf = tfidf.fit_transform(df_small['text'].values).toarray()\n",
        "pd.DataFrame(song_tfidf)"
      ]
    },
    {
      "cell_type": "code",
      "execution_count": null,
      "metadata": {
        "id": "Beak6ODRR-F7",
        "colab": {
          "base_uri": "https://localhost:8080/"
        },
        "outputId": "06cc0908-75bf-4f4d-dcbf-7348af46e40e"
      },
      "outputs": [
        {
          "output_type": "execute_result",
          "data": {
            "text/plain": [
              "array([[1.        , 0.        , 0.        , ..., 0.        , 0.        ,\n",
              "        0.        ],\n",
              "       [0.        , 1.        , 0.        , ..., 0.        , 0.        ,\n",
              "        0.        ],\n",
              "       [0.        , 0.        , 1.        , ..., 0.        , 0.        ,\n",
              "        0.03257364],\n",
              "       ...,\n",
              "       [0.        , 0.        , 0.        , ..., 1.        , 0.        ,\n",
              "        0.        ],\n",
              "       [0.        , 0.        , 0.        , ..., 0.        , 1.        ,\n",
              "        0.        ],\n",
              "       [0.        , 0.        , 0.03257364, ..., 0.        , 0.        ,\n",
              "        1.        ]])"
            ]
          },
          "metadata": {},
          "execution_count": 27
        }
      ],
      "source": [
        "# Compute the cosine similarity for the tfidf above output\n",
        "similar_songs = cosine_similarity(song_tfidf, song_tfidf)\n",
        "\n",
        "# Let us see the above array\n",
        "similar_songs\n"
      ]
    },
    {
      "cell_type": "markdown",
      "metadata": {
        "id": "3Jjo3UHKhoEh"
      },
      "source": [
        " Finally, let's create a function to find most similar songs to recommend for a given song."
      ]
    },
    {
      "cell_type": "code",
      "execution_count": null,
      "metadata": {
        "id": "upANOISkR-F8"
      },
      "outputs": [],
      "source": [
        "# Function that takes in song title as input and returns the top 10 recommended songs\n",
        "def recommendations(title, similar_songs):\n",
        "\n",
        "    recommended_songs = []\n",
        "\n",
        "    # Getting the index of the song that matches the title\n",
        "    idx = title_series[title_series == title].index[0]\n",
        "\n",
        "    # Creating a Series with the similarity scores in descending order\n",
        "    score_series = pd.Series(similar_songs[idx]).sort_values(ascending = False)\n",
        "\n",
        "    # Getting the indexes of the 10 most similar songs\n",
        "    top_10_indexes = list(score_series.iloc[1 : 11].index)\n",
        "\n",
        "    # Populating the list with the titles of the best 10 matching songs\n",
        "    for i in top_10_indexes:\n",
        "        recommended_songs.append(list(df_small.index)[i])\n",
        "\n",
        "    return recommended_songs\n"
      ]
    },
    {
      "cell_type": "markdown",
      "metadata": {
        "id": "o4EINBmkR-F8"
      },
      "source": [
        "Recommending 10 songs similar to Learn to Fly"
      ]
    },
    {
      "cell_type": "code",
      "execution_count": null,
      "metadata": {
        "id": "ohEK5dkVR-F8",
        "colab": {
          "base_uri": "https://localhost:8080/"
        },
        "outputId": "2c8221c3-0dfa-48ab-9a08-6363b8386b16"
      },
      "outputs": [
        {
          "output_type": "execute_result",
          "data": {
            "text/plain": [
              "['Big Me',\n",
              " 'Everlong',\n",
              " 'The Pretender',\n",
              " 'Nothing Better (Album)',\n",
              " 'From Left To Right',\n",
              " 'Lifespan Of A Fly',\n",
              " 'Daisy And Prudence',\n",
              " \"Ghosts 'n' Stuff (Original Instrumental Mix)\",\n",
              " 'Closer',\n",
              " 'No Cars Go']"
            ]
          },
          "metadata": {},
          "execution_count": 29
        }
      ],
      "source": [
        "# Make the recommendation for the song with title 'Learn To Fly'\n",
        "recommendations('Learn To Fly', similar_songs)\n"
      ]
    },
    {
      "cell_type": "markdown",
      "source": [
        "#### Hybrid Model Implementation"
      ],
      "metadata": {
        "id": "LiiF2pM9ba6R"
      }
    },
    {
      "cell_type": "code",
      "source": [
        "def hybrid_recommendations_for_user(user_id, svd_model, similar_songs, df_small, n_recommendations=10):\n",
        "    if 'title' not in df_small.columns:\n",
        "        df_small = df_small.reset_index()\n",
        "\n",
        "    similar_songs_df = pd.DataFrame(similar_songs, index=df_small['title'], columns=df_small['title'])\n",
        "\n",
        "    user_interactions = df_small[df_small['user_id'] == user_id]\n",
        "\n",
        "    user_rated_songs = user_interactions['song_id'].unique()\n",
        "\n",
        "    predictions = []\n",
        "    for _, row in df_small.iterrows():\n",
        "        song_id = row['song_id']\n",
        "        if song_id not in user_rated_songs:\n",
        "            svd_prediction = svd_model.predict(str(user_id), str(song_id)).est\n",
        "            predictions.append((row['song_id'], row['title'], svd_prediction))\n",
        "\n",
        "    predictions.sort(key=lambda x: x[2], reverse=True)\n",
        "\n",
        "    hybrid_recommendations = []\n",
        "    for song_id, song_title, svd_prediction in predictions[:n_recommendations]:\n",
        "        content_similarities = [similar_songs_df.loc[song_title, listened_title] for listened_title in user_interactions['title'] if listened_title in similar_songs_df.index]\n",
        "        content_adjustment = np.mean(content_similarities) if content_similarities else 0\n",
        "\n",
        "        # Ajusta esta fórmula según sea necesario para manejar el score\n",
        "        hybrid_score = svd_prediction + content_adjustment  # Modificado para ajustar el cálculo del score\n",
        "\n",
        "        hybrid_recommendations.append((song_id, song_title, hybrid_score))\n",
        "\n",
        "    hybrid_recommendations.sort(key=lambda x: x[2], reverse=True)\n",
        "    return hybrid_recommendations[:n_recommendations]\n"
      ],
      "metadata": {
        "id": "nyGGhcLUh5k5"
      },
      "execution_count": null,
      "outputs": []
    },
    {
      "cell_type": "code",
      "source": [
        "def get_user_interactions_from_test_set(user_id, test_evaluation_df):\n",
        "\n",
        "    # Filtrar el DataFrame para obtener solo las filas correspondientes al user_id dado\n",
        "    user_interactions = test_evaluation_df[test_evaluation_df['user_id'] == user_id]\n",
        "\n",
        "    # Extraer los song_id de esas interacciones\n",
        "    interacted_songs = user_interactions['song_id'].unique().tolist()\n",
        "\n",
        "    return interacted_songs\n",
        "\n",
        "\n",
        "def evaluate_hybrid_model(test_evaluation_df, svd_model, similar_songs, df_small, n_recommendations=30, k=30, threshold=1.5):\n",
        "    user_precisions, user_recalls, user_f1s = [], [], []\n",
        "\n",
        "    # Iterar sobre cada usuario en el conjunto de evaluación\n",
        "    for user_id in test_evaluation_df['user_id'].unique():\n",
        "        actual_songs = get_user_interactions_from_test_set(user_id, test_evaluation_df)\n",
        "        hybrid_recs = hybrid_recommendations_for_user(user_id, svd_model, similar_songs, df_small, n_recommendations)\n",
        "\n",
        "        # Obtener solo los IDs de las canciones recomendadas\n",
        "        recommended_songs = [rec[0] for rec in hybrid_recs]\n",
        "\n",
        "        true_positives = set(recommended_songs) & set(actual_songs)\n",
        "        false_positives = set(recommended_songs) - set(actual_songs)\n",
        "        false_negatives = set(actual_songs) - set(recommended_songs)\n",
        "\n",
        "        precision = len(true_positives) / (len(true_positives) + len(false_positives)) if true_positives else 0\n",
        "        recall = len(true_positives) / (len(true_positives) + len(false_negatives)) if true_positives else 0\n",
        "        f1 = 2 * (precision * recall) / (precision + recall) if (precision + recall) > 0 else 0\n",
        "\n",
        "        user_precisions.append(precision)\n",
        "        user_recalls.append(recall)\n",
        "        user_f1s.append(f1)\n",
        "\n",
        "    # Calcular promedios\n",
        "    avg_precision = np.mean(user_precisions)\n",
        "    avg_recall = np.mean(user_recalls)\n",
        "    avg_f1 = np.mean(user_f1s)\n",
        "\n",
        "    print(f'Average Precision: {avg_precision:.3f}')\n",
        "    print(f'Average Recall: {avg_recall:.3f}')\n",
        "    print(f'Average F1: {avg_f1:.3f}')\n",
        "\n",
        "\n"
      ],
      "metadata": {
        "id": "ghqRjoIFSiDs"
      },
      "execution_count": null,
      "outputs": []
    },
    {
      "cell_type": "code",
      "source": [
        "# Reset index of df_small\n",
        "df_small = df_small.reset_index()\n",
        "pd.DataFrame(similar_songs, index=df_small['title'], columns=df_small['title'])\n",
        "\n",
        "# evaluate hybrid model\n",
        "evaluate_hybrid_model(test_evaluation_df, svd_optimized, similar_songs,df_small)"
      ],
      "metadata": {
        "colab": {
          "base_uri": "https://localhost:8080/"
        },
        "id": "Up9GxlujS-FT",
        "outputId": "1f3d0e54-2868-4ba4-ee2d-f4aecc2dcd87"
      },
      "execution_count": null,
      "outputs": [
        {
          "output_type": "stream",
          "name": "stdout",
          "text": [
            "Average Precision: 0.015\n",
            "Average Recall: 0.066\n",
            "Average F1: 0.022\n"
          ]
        }
      ]
    },
    {
      "cell_type": "markdown",
      "source": [
        "The hybrid model yields an average precision of 0.012 and recall of 0.017, resulting in an F1 score of 0.013. These figures are considerably lower compared to the SVD model, which achieved a precision of 0.421 and recall of 0.629, with an F1 score of 0.504. While the SVD model shows a stronger ability to predict user preferences accurately, reflected in a significantly higher F1 score, the hybrid model's performance suggests it may not be capturing user preferences as effectively. Additionally, the SVD model's RMSE of 1.0021 indicates a reasonable level of accuracy in predicting actual ratings, further emphasizing the gap between the two models. This comparison highlights a need to refine the hybrid model to enhance its predictive accuracy and recommendation relevance."
      ],
      "metadata": {
        "id": "YcsVYzZFlAT4"
      }
    },
    {
      "cell_type": "markdown",
      "source": [
        "### **Collaborative Filtering using Neural Network**"
      ],
      "metadata": {
        "id": "qU75XR-wzxQ8"
      }
    },
    {
      "cell_type": "markdown",
      "source": [
        "In our continued quest to enhance the accuracy and personalization of our recommendation system, we have ventured beyond traditional hybrid models, which fell short of achieving the desired outcomes. To overcome these shortcomings and with the ambition to unlock greater potential in the field of recommendations, we have turned to the promising realm of neural networks.\n",
        "\n",
        "Neural networks, especially those based on collaborative filtering, present an intriguing opportunity to capture the complexity and richness of user-item interactions. We have constructed a neural network that incorporates latent feature matrices from an optimized SVD model, melding them with the advanced architecture of deep learning. This network capitalizes on the latent features of users and items as initial embeddings, applying regularization and dropout to enhance generalization and prevent overfitting. Through the dot product of flattened vectors, the network seeks to calculate the similarity between users and items, aiming to refine interaction predictions and ultimately enrich the user experience with highly personalized recommendations. Compiled using the Adam optimizer and mean squared error loss function, the network trains to minimize error and adjust predictions over several epochs, representing our advanced commitment to capturing the essence of what users desire and enjoy."
      ],
      "metadata": {
        "id": "T3f3hgt-nyX3"
      }
    },
    {
      "cell_type": "code",
      "source": [
        "from collections import defaultdict\n",
        "import numpy as np\n",
        "from sklearn.metrics import mean_squared_error\n",
        "\n",
        "def precision_recall_at_k(model, test_user_ids, test_item_ids, test_ratings, k=30, threshold=1.5):\n",
        "    \"\"\"Calculate RMSE, precision@k, recall@k, and F1 score for a Keras model on the test set.\"\"\"\n",
        "    # Model predictions\n",
        "    y_pred = model.predict([test_user_ids, test_item_ids]).flatten()\n",
        "\n",
        "    # RMSE\n",
        "    rmse = np.sqrt(mean_squared_error(test_ratings, y_pred))\n",
        "    print(f\"RMSE: {rmse:.3f}\")\n",
        "\n",
        "    user_est_true = defaultdict(list)\n",
        "    for uid, iid, true_r, est in zip(test_user_ids, test_item_ids, test_ratings, y_pred):\n",
        "        user_est_true[uid].append((est, true_r))\n",
        "\n",
        "    precisions = dict()\n",
        "    recalls = dict()\n",
        "\n",
        "    for uid, user_ratings in user_est_true.items():\n",
        "        user_ratings.sort(key=lambda x: x[0], reverse=True)  # Sort by estimation\n",
        "        n_rel = sum((true_r >= threshold) for (_, true_r) in user_ratings)  # Number of relevant items\n",
        "        n_rec_k = sum((est >= threshold) for (est, _) in user_ratings[:k])  # Number of items recommended in top k\n",
        "        n_rel_and_rec_k = sum(((true_r >= threshold) and (est >= threshold)) for (est, true_r) in user_ratings[:k])\n",
        "\n",
        "        precisions[uid] = n_rel_and_rec_k / n_rec_k if n_rec_k != 0 else 0\n",
        "        recalls[uid] = n_rel_and_rec_k / n_rel if n_rel != 0 else 0\n",
        "\n",
        "    precision = sum(prec for prec in precisions.values()) / len(precisions)\n",
        "    recall = sum(rec for rec in recalls.values()) / len(recalls)\n",
        "\n",
        "    # Print metrics\n",
        "    print(f\"Precision: {precision:.3f}\")\n",
        "    print(f\"Recall: {recall:.3f}\")\n",
        "\n",
        "    # Calculate F1 score if both precision and recall are greater than 0\n",
        "    if precision and recall:\n",
        "        f1 = 2 * (precision * recall) / (precision + recall)\n",
        "        print(f\"F1: {f1:.3f}\")\n",
        "    else:\n",
        "        print(\"F1: Cannot be calculated due to precision and recall being 0\")\n"
      ],
      "metadata": {
        "id": "Rv2XdUIf_non"
      },
      "execution_count": null,
      "outputs": []
    },
    {
      "cell_type": "code",
      "source": [
        "import numpy as np\n",
        "\n",
        "# Initialize lists to store the internal IDs and ratings\n",
        "train_user_ids = []\n",
        "train_item_ids = []\n",
        "train_ratings = []\n",
        "\n",
        "# Iterate over all ratings in the training set\n",
        "for uid, iid, rating in trainset.all_ratings():\n",
        "    # Convert from internal indices to raw IDs (if necessary)\n",
        "    # In this case, we are working directly with internal indices\n",
        "    train_user_ids.append(uid)\n",
        "    train_item_ids.append(iid)\n",
        "    train_ratings.append(rating)\n",
        "\n",
        "# Convert lists to NumPy arrays for training\n",
        "train_user_ids = np.array(train_user_ids)\n",
        "train_item_ids = np.array(train_item_ids)\n",
        "train_ratings = np.array(train_ratings)\n"
      ],
      "metadata": {
        "id": "70J3Ryywsz5_"
      },
      "execution_count": null,
      "outputs": []
    },
    {
      "cell_type": "code",
      "source": [
        "# Prepare test data considering some users or items may not be in the training set\n",
        "test_user_ids = []\n",
        "test_item_ids = []\n",
        "test_ratings = []\n",
        "\n",
        "for uid, iid, rating in testset:\n",
        "    try:\n",
        "        inner_uid = trainset.to_inner_uid(uid)\n",
        "        inner_iid = trainset.to_inner_iid(iid)\n",
        "        test_user_ids.append(inner_uid)\n",
        "        test_item_ids.append(inner_iid)\n",
        "        test_ratings.append(rating)\n",
        "    except ValueError:\n",
        "        # Skip this user-item pair or handle it differently\n",
        "        continue\n",
        "\n",
        "# Convert to NumPy arrays for training\n",
        "test_user_ids = np.array(test_user_ids)\n",
        "test_item_ids = np.array(test_item_ids)\n",
        "test_ratings = np.array(test_ratings)\n"
      ],
      "metadata": {
        "id": "0KyeXdI5FbXb"
      },
      "execution_count": null,
      "outputs": []
    },
    {
      "cell_type": "code",
      "source": [
        "# Retrieve the latent feature matrices from SVD\n",
        "user_features_svd = svd_optimized.pu  # Latent user features\n",
        "song_features_svd = svd_optimized.qi  # Latent item features\n"
      ],
      "metadata": {
        "id": "qOZW0jm66xwb"
      },
      "execution_count": null,
      "outputs": []
    },
    {
      "cell_type": "code",
      "source": [
        "# Define the input dimensions\n",
        "input_dim_users = user_features_svd.shape[0]\n",
        "input_dim_songs = song_features_svd.shape[0]\n"
      ],
      "metadata": {
        "id": "NMG5pyr9DdBq"
      },
      "execution_count": null,
      "outputs": []
    },
    {
      "cell_type": "code",
      "source": [
        "from tensorflow.keras.models import Model\n",
        "from tensorflow.keras.layers import Input, Embedding, Flatten, Dot, Dense, Dropout\n",
        "from tensorflow.keras.regularizers import l2\n",
        "from tensorflow.keras.initializers import Constant\n",
        "from tensorflow.keras.optimizers import Adam\n",
        "\n",
        "# Regularization hyperparameters\n",
        "l2_reg = 0.00001  # L2 regularization factor\n",
        "dropout_rate = 0.05  # Dropout rate\n",
        "\n",
        "# Dimension of the latent features\n",
        "n_factors = user_features_svd.shape[1]\n",
        "\n",
        "# Inputs\n",
        "user_input = Input(shape=(1,), dtype='int32', name='user_input')\n",
        "song_input = Input(shape=(1,), dtype='int32', name='song_input')\n",
        "\n",
        "# Embeddings, initialized with SVD\n",
        "user_embedding = Embedding(input_dim=input_dim_users, output_dim=n_factors, embeddings_initializer=Constant(user_features_svd), embeddings_regularizer=l2(l2_reg), input_length=1, name='user_embedding')(user_input)\n",
        "item_embedding = Embedding(input_dim=input_dim_songs, output_dim=n_factors, embeddings_initializer=Constant(song_features_svd), embeddings_regularizer=l2(l2_reg), input_length=1, name='song_embedding')(song_input)\n",
        "\n",
        "# Flatten the embeddings\n",
        "user_vec = Flatten(name='flatten_users')(user_embedding)\n",
        "song_vec = Flatten(name='flatten_songs')(item_embedding)\n",
        "# Apply Dropout to the flattened vectors\n",
        "user_vec = Dropout(dropout_rate)(user_vec)\n",
        "song_vec = Dropout(dropout_rate)(song_vec)\n",
        "# Dot product of the vectors to calculate similarity\n",
        "prod = Dot(name='dot_product', axes=1)([user_vec, song_vec])\n",
        "\n",
        "# Final model\n",
        "model = Model(inputs=[user_input, song_input], outputs=prod)\n",
        "\n",
        "# Compiling the model\n",
        "model.compile(optimizer=Adam(learning_rate=0.001), loss='mean_squared_error')\n"
      ],
      "metadata": {
        "id": "V6YZ1dIq60_b"
      },
      "execution_count": null,
      "outputs": []
    },
    {
      "cell_type": "code",
      "source": [
        "# Model training\n",
        "history = model.fit([train_user_ids, train_item_ids], train_ratings,\n",
        "                    batch_size=64, epochs=15,\n",
        "                    validation_data=([test_user_ids, test_item_ids], test_ratings))\n"
      ],
      "metadata": {
        "colab": {
          "base_uri": "https://localhost:8080/"
        },
        "id": "2ZQ62Gpw89WE",
        "outputId": "0ed91482-f0f4-4a79-8610-d4d327b1ece2"
      },
      "execution_count": null,
      "outputs": [
        {
          "output_type": "stream",
          "name": "stdout",
          "text": [
            "Epoch 1/15\n",
            "1223/1223 [==============================] - 7s 5ms/step - loss: 3.5103 - val_loss: 3.5649\n",
            "Epoch 2/15\n",
            "1223/1223 [==============================] - 6s 5ms/step - loss: 2.0788 - val_loss: 2.0925\n",
            "Epoch 3/15\n",
            "1223/1223 [==============================] - 6s 5ms/step - loss: 0.8518 - val_loss: 1.4704\n",
            "Epoch 4/15\n",
            "1223/1223 [==============================] - 5s 4ms/step - loss: 0.4916 - val_loss: 1.3640\n",
            "Epoch 5/15\n",
            "1223/1223 [==============================] - 5s 4ms/step - loss: 0.3795 - val_loss: 1.3623\n",
            "Epoch 6/15\n",
            "1223/1223 [==============================] - 5s 4ms/step - loss: 0.3221 - val_loss: 1.3738\n",
            "Epoch 7/15\n",
            "1223/1223 [==============================] - 5s 4ms/step - loss: 0.2885 - val_loss: 1.3842\n",
            "Epoch 8/15\n",
            "1223/1223 [==============================] - 6s 5ms/step - loss: 0.2693 - val_loss: 1.3905\n",
            "Epoch 9/15\n",
            "1223/1223 [==============================] - 6s 5ms/step - loss: 0.2601 - val_loss: 1.3920\n",
            "Epoch 10/15\n",
            "1223/1223 [==============================] - 5s 4ms/step - loss: 0.2538 - val_loss: 1.3892\n",
            "Epoch 11/15\n",
            "1223/1223 [==============================] - 5s 4ms/step - loss: 0.2493 - val_loss: 1.3913\n",
            "Epoch 12/15\n",
            "1223/1223 [==============================] - 5s 4ms/step - loss: 0.2474 - val_loss: 1.3853\n",
            "Epoch 13/15\n",
            "1223/1223 [==============================] - 5s 4ms/step - loss: 0.2443 - val_loss: 1.3831\n",
            "Epoch 14/15\n",
            "1223/1223 [==============================] - 6s 5ms/step - loss: 0.2439 - val_loss: 1.3757\n",
            "Epoch 15/15\n",
            "1223/1223 [==============================] - 6s 5ms/step - loss: 0.2414 - val_loss: 1.3723\n"
          ]
        }
      ]
    },
    {
      "cell_type": "code",
      "source": [
        "# Model evaluation\n",
        "precision_recall_at_k(model, test_user_ids, test_item_ids, test_ratings, k=30, threshold=1.5)\n"
      ],
      "metadata": {
        "colab": {
          "base_uri": "https://localhost:8080/"
        },
        "id": "A3Pu9srN2iny",
        "outputId": "2fe08b3a-2fcd-4e80-cb7c-21c13b7cda5d"
      },
      "execution_count": null,
      "outputs": [
        {
          "output_type": "stream",
          "name": "stdout",
          "text": [
            "1630/1630 [==============================] - 2s 1ms/step\n",
            "RMSE: 1.106\n",
            "Precision: 0.408\n",
            "Recall: 0.404\n",
            "F1: 0.406\n"
          ]
        }
      ]
    },
    {
      "cell_type": "markdown",
      "source": [
        "The neural network model, while a sophisticated foray into the integration of deep learning with recommendation systems, has yielded an RMSE of 1.107. This suggests that, in its current state, the network's predictions are less accurate than those of the standalone SVD model, which had an RMSE of 1.0021.\n",
        "\n",
        "In terms of precision, recall, and F1 score, the neural network model shows uniform values of 0.409 across these metrics. This indicates a consistency in the model's ability to identify relevant items but also highlights room for improvement. When compared to the SVD model's precision of 0.421, recall of 0.629, and F1 score of 0.504, it's evident that the neural network does not quite match up to the performance of the SVD model. The SVD model not only predicts with slightly higher precision but also has a significantly better recall rate, indicating that it is more capable of finding a larger proportion of relevant items within the dataset."
      ],
      "metadata": {
        "id": "qOgDWruioTre"
      }
    },
    {
      "cell_type": "markdown",
      "source": [
        "## **Executive Summary**"
      ],
      "metadata": {
        "id": "SOACGUkjbYte"
      }
    },
    {
      "cell_type": "markdown",
      "source": [
        "### **Key Insights from the Milestone Analysis**"
      ],
      "metadata": {
        "id": "mE1yCDrRrxpk"
      }
    },
    {
      "cell_type": "markdown",
      "source": [
        "The most significant findings from the analysis conducted on the Milestone regarding the music recommendation system, considering the updated information provided, are detailed below:\n",
        "\n",
        "**1. Preference for More Recent Music**\n",
        "\n",
        "Data analysis has revealed a clear user preference for more recent music. This insight is crucial for the design and enhancement of recommendation systems, as it underscores the importance of incorporating and highlighting recent releases and current trends in recommendations. Adapting the system to emphasize this type of content not only satisfies current user preferences but also fosters greater engagement by keeping the platform up-to-date with the contemporary musical landscape.\n",
        "\n",
        "\n",
        "**2. Identification of a Model with Reasonable Ratios from a Limited Dataset**\n",
        "\n",
        "Despite the limitations of the provided dataset, it has been possible to identify a model that offers reasonable performance ratios in terms of accuracy and recall. This model, the optimized Singular Value Decomposition (SVD), has proven effective in analyzing user preferences and predicting their interests with a significant degree of accuracy. The ability of this model to provide personalized and relevant recommendations, even with a restricted dataset, highlights its potential to be implemented in efficient recommendation systems that can adapt and scale as more data becomes available.\n",
        "\n",
        "**3. Improvement of Economic Outcomes by Incorporating the Model**\n",
        "\n",
        "Incorporating the optimized SVD model into the recommendation functionality presents a notable opportunity to improve the economic outcomes of the platform. By enhancing the accuracy of music recommendations, an increase in the time users spend on the platform is anticipated, which in turn could translate into higher revenue from advertising, subscriptions, and other monetization avenues. This approach not only has the potential to increase user satisfaction and retention by offering a more personalized and aligned experience with their musical tastes but also strengthens the platform's position as a leader in musical discovery. By providing significant added value to users, greater loyalty is fostered and a solid foundation for sustained economic growth is established.\n",
        "\n"
      ],
      "metadata": {
        "id": "n4j7DvuRby6-"
      }
    },
    {
      "cell_type": "markdown",
      "source": [
        "### **Specifications of the Proposed Final Model**"
      ],
      "metadata": {
        "id": "OsWcMAFKsGcK"
      }
    },
    {
      "cell_type": "markdown",
      "source": [
        "The final proposed model is a collaborative filtering system based on Matrix Factorization, specifically utilizing the Singular Value Decomposition (SVD) algorithm from the Surprise library. This model has been optimized through careful selection of hyperparameters to enhance its predictive accuracy and recommendation quality. The selected hyperparameters for the optimized SVD model are as follows:\n",
        "\n",
        "- *n_epochs*: 30, indicating the number of iterations over the entire dataset to perform during the training process. This allows the model enough time to converge on an optimal set of latent features for users and items.\n",
        "- *lr_all*: 0.01, specifying the learning rate for all parameters. This controls the step size during the gradient descent optimization, balancing the speed and stability of convergence.\n",
        "- *reg_all*: 0.1, setting the regularization term for all parameters. This helps to prevent overfitting by penalizing larger model parameters, thus encouraging a model that generalizes better to unseen data.\n",
        "- *random_state*: 1, ensuring reproducibility of results by providing a fixed seed for the random number generator.\n",
        "\n",
        "This optimized SVD model, after being trained on a designated dataset, demonstrated its effectiveness in decomposing the user-item interaction matrix to capture latent factors. Upon evaluation, it achieved an RMSE of 1.0021, showing a high level of accuracy in predictions. Its precision stood at 0.421, indicating that over 42% of the top-k recommendations were relevant to the users. The recall was 0.629, demonstrating the model's ability to retrieve a significant portion of relevant items, and the F1 score was 0.504, highlighting a balanced trade-off between precision and recall. These metrics underscore the model's capacity to recommend items that accurately reflect user preferences, balancing accurately predicting user preferences with the relevance of its recommendations.redictions and the ability to discover as many relevant items as possible.."
      ],
      "metadata": {
        "id": "cquPpz5yxeER"
      }
    },
    {
      "cell_type": "markdown",
      "source": [
        "## **Problem and Solution Summary**"
      ],
      "metadata": {
        "id": "FmiGM07bbj_D"
      }
    },
    {
      "cell_type": "markdown",
      "source": [
        "**Problem Summary**\n",
        "\n",
        "The music streaming industry faces a continual challenge: maintaining and growing its user base in a highly competitive market. Spotify, as a leader in this sector, is always looking for ways to enhance user experience and foster both the retention of existing users and the acquisition of new ones. In this context, the primary issue lies in how to increase users' engagement with the platform by improving their musical experience, thus promoting greater loyalty and potentially encouraging users to opt for paid subscriptions. The vast availability of music online and the diversity of users' tastes and preferences make the task of discovering new relevant music overwhelming for many. While users are eager to explore new genres and artists, they often encounter time constraints and a lack of knowledge that hinder their ability to discover music aligning with their personal preferences. This scenario presents a significant opportunity for Spotify: the implementation of an advanced recommendation system that can personalize listening experiences by suggesting songs and artists based on individual user preferences.\n",
        "\n",
        "**Solution Summary**\n",
        "\n",
        "The proposed solution focuses on integrating a sophisticated recommendation system within Spotify's app, designed to understand and predict users' musical preferences. By analyzing listening patterns, interactions with various songs and artists, and considering factors like the recent popularity of certain genres or releases, this system can provide highly personalized recommendations. The goal is to enrich the user experience by introducing them to a wider array of music they are likely to enjoy but have yet to discover. This personalization not only enhances user satisfaction by ensuring a continuous stream of new music aligned with their tastes but also encourages more profound engagement with the platform. By spending more time on Spotify and exploring a broader range of content, users develop a deeper and more meaningful connection with the platform. This increase in customer loyalty is crucial for improving Spotify's business outcomes in several ways:\n",
        "\n",
        "- **User Retention**: Users satisfied with the quality of the music recommendations are more likely to remain loyal to Spotify over other streaming platforms, thus reducing the churn rate.\n",
        "- **Subscription Conversion**: A rewarding and personalized user experience can motivate free version users to upgrade to paid subscriptions, seeking an even more tailored and ad-free experience. This conversion can significantly increase Spotify's subscription revenue.\n",
        "- **Engagement Increase**: By enhancing both the amount and quality of time users spend on the platform, Spotify can generate higher revenues through targeted advertising and, for subscribed users, justify the cost of the subscription fee."
      ],
      "metadata": {
        "id": "PBBR8hbHb2ge"
      }
    },
    {
      "cell_type": "markdown",
      "source": [
        "### **Reasons for the Proposed Solution Design**"
      ],
      "metadata": {
        "id": "d1EsuL8xtGxr"
      }
    },
    {
      "cell_type": "markdown",
      "source": [
        "- **Low Operational Cost Implementation**: A shift towards a Matrix Factorization-based collaborative filtering model was made due to its high efficiency and low operational cost. This strategic choice allows for a cost-effective proof of concept, enabling Spotify to assess the recommendation feature's effectiveness without significant initial expenses.\n",
        "\n",
        "- **High Performance in Precision and Recall**: The Matrix Factorization model, particularly when optimized, has shown to provide an excellent balance of precision and recall among the considered models. This means the model is exceptionally adept at not only identifying a broad range of songs likely to appeal to the user (high recall) but also ensuring that the recommendations are highly relevant to their specific tastes (high precision). This predictive accuracy is crucial for effectively personalizing the user experience.\n",
        "\n",
        "- **Ease of Update**: The simplicity of the dataset used for this model, along with the straightforward nature of the Matrix Factorization approach, facilitates easy and regular updates. This ensures that the recommendations remain fresh and relevant, reflecting the latest musical trends and shifts in user preferences, while keeping operational costs low."
      ],
      "metadata": {
        "id": "bsQ7vvXXuAz7"
      }
    },
    {
      "cell_type": "markdown",
      "source": [
        "### **Impact on the Problem and Business**"
      ],
      "metadata": {
        "id": "rx0rztkcuuwL"
      }
    },
    {
      "cell_type": "markdown",
      "source": [
        "The implementation of this recommendation model is expected to have a direct and positive impact on Spotify's business outcomes in the following ways:\n",
        "\n",
        "- **Minimization of Subscription User Churn Rate**: By enhancing the user experience with personalized and relevant recommendations, an increase in satisfaction and engagement among subscribed users is anticipated. This, in turn, can reduce the likelihood of them canceling their subscriptions, thereby lowering the churn rate. A reduced churn rate not only improves revenue retention but also strengthens the long-term loyal user base.\n",
        "\n",
        "- **Increase in the Freemium to Subscription User Conversion Ratio**: An improved user experience, thanks to precise and personalized recommendations, may encourage freemium users to value the platform more and consider a subscription as a valuable investment for accessing an even richer and ad-free experience. By increasing this conversion ratio, Spotify can significantly boost its subscription revenue."
      ],
      "metadata": {
        "id": "A44B0paSuxIC"
      }
    },
    {
      "cell_type": "markdown",
      "source": [
        "## **Recommendations for implementation**"
      ],
      "metadata": {
        "id": "o3tPsvkNb3y8"
      }
    },
    {
      "cell_type": "markdown",
      "source": [
        "### **Implementation Recommendations**"
      ],
      "metadata": {
        "id": "gxCXkk2VcACt"
      }
    },
    {
      "cell_type": "markdown",
      "source": [
        "To ensure an effective implementation of the proposed **matrix factorization-based collaborative filtering** recommendation system solution in Spotify, the following key strategies are recommended:\n",
        "\n",
        "1. **User Interface Enhancement**\n",
        "The Spotify app interface must be optimized to effectively integrate the new recommendation functionality. This involves designing and developing a section within the app that presents a playlist generated by the recommendation model, highlighting the suggested songs in an attractive and user-accessible manner. This enhanced interface should be intuitive and designed to facilitate the discovery of new music, encouraging users to explore and listen to the recommended songs.\n",
        "\n",
        "2. **Simple and Automated Implementation**\n",
        "The update of the recommendation playlist should be carried out automatically, preferably overnight, through bash jobs that execute the model and update the database with the new recommendations for each user. This simple implementation ensures that users always have access to a fresh and relevant list of recommendations every time they open the app, improving their experience without requiring additional interactions or waiting.\n",
        "\n",
        "3. **KPI Monitoring and Control System**\n",
        "To continuously evaluate and optimize the effectiveness of the recommendation functionality, it is crucial to implement a control system that monitors key performance indicators (KPIs) related to:\n",
        "\n",
        "    - **Model Predictive Capacity:** The precision and recall of the model should be measured and analyzed in real-time, adjusting and refining the algorithm as necessary to maintain or improve its performance. This may involve periodic reevaluation of training data, model structure, and used parameters.\n",
        "\n",
        "    - **Recommendation Functionality Usage:** It is important to track how users interact with the recommendation list, including metrics such as usage frequency, listening time of recommended tracks, and the conversion rate of recommendations to songs saved or added to other playlists by the users. These data can provide valuable insights into the relevance and appeal of the provided recommendations."
      ],
      "metadata": {
        "id": "0plXCddV2yN2"
      }
    },
    {
      "cell_type": "markdown",
      "source": [
        "### **Key Actionables for Stakeholders**"
      ],
      "metadata": {
        "id": "TM8LqMPMvk1y"
      }
    },
    {
      "cell_type": "markdown",
      "source": [
        "The recommended steps to maximize the success of the matrix factorization-based collaborative filtering recommendation system on Spotify are as follows:\n",
        "\n",
        "1. **Development Approval**:\n",
        "The first essential step is the formal approval of the development of the recommendation functionality associated with this model by stakeholders. This involves:\n",
        "    - Resource Commitment: Ensuring that the necessary financial, human, and technological resources are allocated for the development, testing, and implementation of the functionality.\n",
        "    - Objective Definition: Setting clear business and technical objectives for the recommendation functionality, including specific goals to improve user experience, increase customer loyalty, and have positive effects on conversion and churn rates.\n",
        "\n",
        "2. **Implementation of Specific KPIs**:\n",
        "To measure the impact of the recommendation functionality and its value to the business, it is crucial to implement key performance indicators (KPIs) that allow for an objective and continuous evaluation. These KPIs should include:\n",
        "    - Freemium to Subscription Conversion Rate: Measuring how the introduction of the recommendation functionality affects the propensity of freemium users to become paying subscribers.\n",
        "    - Subscriber Churn Rate: Assessing whether the improvement in the personalization of the musical experience has a positive impact on subscriber retention, thus reducing the subscription cancellation rate.\n",
        "\n",
        "3. **Ongoing Evaluation and Improvement of the Predictive Model**:\n",
        "Based on the analysis of the mentioned KPIs, stakeholders should be prepared to:\n",
        "    - Review Results: Regularly evaluate the performance of the recommendation functionality in relation to the established KPIs to determine its success and areas for improvement.\n",
        "    - Approve Improvements: If the results are positive, proceed with the approval of additional projects to enhance and refine the predictive model. This may include exploring new modeling techniques, expanding the dataset, or incorporating user feedback for adjustments..\n"
      ],
      "metadata": {
        "id": "tB6soAUU5lyk"
      }
    },
    {
      "cell_type": "markdown",
      "source": [
        "### **Expected Benefits and Costs**"
      ],
      "metadata": {
        "id": "isiUajssvo55"
      }
    },
    {
      "cell_type": "markdown",
      "source": [
        "Here is an estimated analysis of the benefits and costs associated with this implementation, based on rational assumptions and available data.\n",
        "\n",
        "**Necessary Investment**\n",
        "\n",
        "Development and Implementation of the Functionality and Model: The initial investment required for the development and implementation of the recommendation system is estimated to be `500,000$`. This figure includes the costs of research and development, programming, testing, and deployment of the system.\n",
        "\n",
        "**Estimated Revenues**\n",
        "\n",
        "- Reduction in Churn Rate: Achieving a target reduction in the churn rate by 0.5%, considering Spotify has 220 million subscribers and an annual churn rate of 45%, would imply preventing the loss of approximately half a million users. With an average revenue per user (ARPU) of `$54` annually, this would represent `$27` million in retained revenue.\n",
        "- Increase in Conversion Ratio: The recommendation system is expected to increase the conversion ratio of freemium users to paying subscribers by 0.5%, moving from the current 15% to 15.075%. With 500 million freemium users, this would mean 375,000 new subscribers, translating into additional revenue of approximately `$20.25 million`.\n",
        "\n",
        "Therefore, the total estimated contribution to revenue would be `$47.25 million`.\n",
        "\n",
        "**Operational Costs**\n",
        "- Cloud: The cost associated with cloud services, including running the model and supporting the functionality for users, is anticipated not to exceed `$1 million`.\n",
        "- Personnel Cost: For the continuous monitoring and maintenance of the system, the need for 3 people is estimated, with a total annual cost of `$225,000`.\n",
        "This brings the total operational expenses to `$1,225,000`.\n",
        "\n",
        "**Estimated Operational Profit**\n",
        "\n",
        "The difference between the additional revenues generated and the operational costs results in an estimated operational profit of `$46,025,000` (`$47,250,000 - $1,225,000`).\n"
      ],
      "metadata": {
        "id": "4rmXmcNp74Gc"
      }
    },
    {
      "cell_type": "markdown",
      "source": [
        "### **Potential Risks and Challenges**"
      ],
      "metadata": {
        "id": "LUATjJw0vwJ2"
      }
    },
    {
      "cell_type": "markdown",
      "source": [
        "The implementation of an advanced recommendation system in Spotify, while promising to enhance user experience and the company's economic outcomes, is not without potential risks and challenges. These challenges, if not properly addressed, could limit the effectiveness of the solution and its anticipated positive impact. The main risks associated with the design of the proposed solution include:\n",
        "\n",
        "1. **Lack of Predictive Quality of the Model**\n",
        "One of the most significant risks is that the recommendation model fails to achieve sufficient predictive quality. This could be due to various reasons, such as insufficient training data, poor feature selection, or the model's inability to capture the complexity and dynamism of users' musical preferences. If the model cannot accurately predict user preferences, the recommendations are likely to be irrelevant or uninteresting to them, which could lead to low adoption and use of the recommendation functionality.\n",
        "\n",
        "2. **Lack of Real-Time Personalization**\n",
        "Another major challenge is ensuring that recommendations are personalized in real-time. Users' music tastes and preferences can change rapidly, influenced by trends, moods, or specific events. If the system cannot adapt and update recommendations in real-time or near real-time, users may perceive the recommendations as outdated or not relevant, diminishing the perceived value of the functionality.\n",
        "\n",
        "3. **Inadequate User Interface**\n",
        "The effectiveness of the solution also heavily depends on the interface through which recommendations are presented. A poorly designed user interface, which is not intuitive, attractive, or easy to use, can discourage users from interacting with the recommendations, regardless of their relevance or accuracy. User experience should be a primary consideration in the design of the recommendation functionality to ensure that suggestions are easily accessible and appealing to users.\n",
        "\n",
        "**Mitigation Strategies**\n",
        "\n",
        "To address these risks, Spotify should consider various mitigation strategies, including:\n",
        "\n",
        "- Continuous Model Improvement: Implement a process of iteration and continuous improvement of the recommendation model, using user feedback and performance analysis to adjust and refine the system.\n",
        "\n",
        "- Dynamic Personalization: Develop mechanisms that allow for updating recommendations in real-time or near real-time, based on the user's recent interaction with the platform and changes in music trends.\n",
        "\n",
        "- User Testing and User-Centered Design: Conduct usability testing and iterative design with real users to ensure that the interface of the recommendation functionality is attractive, intuitive, and functional.\n"
      ],
      "metadata": {
        "id": "DZd7bGK9-pdz"
      }
    },
    {
      "cell_type": "markdown",
      "source": [
        "### **Further Analysis and Associated Problem Solving**"
      ],
      "metadata": {
        "id": "g6EBfyRCv1Lt"
      }
    },
    {
      "cell_type": "markdown",
      "source": [
        "To optimize the recommendation system on Spotify, it is crucial to address key areas for future analysis and improvements:\n",
        "\n",
        "**Improving the Predictive Model**\n",
        "- Data Expansion: To improve the accuracy and relevance of recommendations, it is essential to expand the dataset used to train the predictive model. This includes increasing the number of users whose data are analyzed, as well as expanding the range of features considered for each user. Additional data can provide a deeper and more nuanced understanding of user preferences and behaviors.\n",
        "\n",
        "- Inclusion of Listening Date and Time: Incorporating temporal variables, such as the specific date and time of listening, can allow the model to capture and learn time-based patterns, such as musical preferences changing according to the time of day, day of the week, or season.\n",
        "\n",
        "- New Song Features: Enriching the model with more details about the songs, including aspects such as genre, era, rhythm, instruments, etc., could significantly improve the system's ability to make personalized and relevant recommendations.\n",
        "\n",
        "- External Variables: Integrating external variables that may influence the user's mood, such as weather conditions, local events, holidays, and other cultural observances, can offer an additional dimension of personalization, aligning recommendations not only with the user's musical tastes but also with their current context and emotional state.\n",
        "\n",
        "- Researching Adapted Methodologies: Exploring and adopting advanced analytical and modeling methodologies, specifically designed to handle the complexity and dynamic nature of musical and user data, is fundamental for the continuous development of the model.\n",
        "\n",
        "\n",
        "**Implementing a Real-Time Model**\n",
        "\n",
        "The ability to update recommendations in real-time based on recent user interaction and contextual changes is an ambitious but critical goal for the evolution of the recommendation system. Implementing a model that operates in real-time requires:\n",
        "\n",
        "- Robust Technological Infrastructure: Developing and maintaining an infrastructure capable of processing large volumes of data in real-time, ensuring the speed and scalability of the recommendation system.\n",
        "\n",
        "- Efficient Algorithms: Using or developing algorithms that can run quickly and update recommendations almost instantly, based on the user's most recent activity and changes in the aforementioned external variables."
      ],
      "metadata": {
        "id": "ff4zXaUQAjcp"
      }
    }
  ],
  "metadata": {
    "colab": {
      "provenance": [],
      "machine_shape": "hm"
    },
    "kernelspec": {
      "display_name": "Python 3",
      "name": "python3"
    },
    "language_info": {
      "codemirror_mode": {
        "name": "ipython",
        "version": 3
      },
      "file_extension": ".py",
      "mimetype": "text/x-python",
      "name": "python",
      "nbconvert_exporter": "python",
      "pygments_lexer": "ipython3",
      "version": "3.9.13"
    }
  },
  "nbformat": 4,
  "nbformat_minor": 0
}